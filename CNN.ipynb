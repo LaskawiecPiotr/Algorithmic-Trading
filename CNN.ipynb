{
 "cells": [
  {
   "cell_type": "code",
   "execution_count": 1,
   "metadata": {},
   "outputs": [],
   "source": [
    "from features_labels_extract import extract_features_and_labels\n",
    "import torch\n",
    "from torch.utils.data import Dataset\n",
    "import numpy as np\n",
    "from sklearn.metrics import (accuracy_score, classification_report, confusion_matrix, \n",
    "                             hamming_loss, ConfusionMatrixDisplay, \n",
    "                             precision_score, recall_score, f1_score, roc_curve, auc)\n",
    "import yfinance as yf"
   ]
  },
  {
   "cell_type": "code",
   "execution_count": 2,
   "metadata": {},
   "outputs": [
    {
     "name": "stdout",
     "output_type": "stream",
     "text": [
      "YF.download() has changed argument auto_adjust default to True\n"
     ]
    },
    {
     "name": "stderr",
     "output_type": "stream",
     "text": [
      "[*********************100%***********************]  1 of 1 completed\n"
     ]
    },
    {
     "name": "stdout",
     "output_type": "stream",
     "text": [
      "Final dataset size: 484 samples\n"
     ]
    },
    {
     "name": "stderr",
     "output_type": "stream",
     "text": [
      "[*********************100%***********************]  1 of 1 completed\n"
     ]
    },
    {
     "name": "stdout",
     "output_type": "stream",
     "text": [
      "Final dataset size: 484 samples\n"
     ]
    },
    {
     "name": "stderr",
     "output_type": "stream",
     "text": [
      "[*********************100%***********************]  1 of 1 completed\n"
     ]
    },
    {
     "name": "stdout",
     "output_type": "stream",
     "text": [
      "Final dataset size: 367 samples\n"
     ]
    },
    {
     "name": "stderr",
     "output_type": "stream",
     "text": [
      "[*********************100%***********************]  1 of 1 completed\n",
      "[*********************100%***********************]  1 of 1 completed"
     ]
    },
    {
     "name": "stdout",
     "output_type": "stream",
     "text": [
      "Final dataset size: 484 samples\n"
     ]
    },
    {
     "name": "stderr",
     "output_type": "stream",
     "text": [
      "\n"
     ]
    },
    {
     "name": "stdout",
     "output_type": "stream",
     "text": [
      "Final dataset size: 220 samples\n"
     ]
    },
    {
     "name": "stderr",
     "output_type": "stream",
     "text": [
      "[*********************100%***********************]  1 of 1 completed\n",
      "[*********************100%***********************]  1 of 1 completed"
     ]
    },
    {
     "name": "stdout",
     "output_type": "stream",
     "text": [
      "Final dataset size: 484 samples\n"
     ]
    },
    {
     "name": "stderr",
     "output_type": "stream",
     "text": [
      "\n"
     ]
    },
    {
     "name": "stdout",
     "output_type": "stream",
     "text": [
      "Final dataset size: 172 samples\n"
     ]
    },
    {
     "name": "stderr",
     "output_type": "stream",
     "text": [
      "[*********************100%***********************]  1 of 1 completed\n"
     ]
    },
    {
     "name": "stdout",
     "output_type": "stream",
     "text": [
      "Final dataset size: 484 samples\n"
     ]
    },
    {
     "name": "stderr",
     "output_type": "stream",
     "text": [
      "[*********************100%***********************]  1 of 1 completed\n"
     ]
    },
    {
     "name": "stdout",
     "output_type": "stream",
     "text": [
      "Final dataset size: 484 samples\n"
     ]
    },
    {
     "name": "stderr",
     "output_type": "stream",
     "text": [
      "[*********************100%***********************]  1 of 1 completed\n"
     ]
    },
    {
     "name": "stdout",
     "output_type": "stream",
     "text": [
      "Final dataset size: 484 samples\n"
     ]
    },
    {
     "name": "stderr",
     "output_type": "stream",
     "text": [
      "[*********************100%***********************]  1 of 1 completed\n"
     ]
    },
    {
     "name": "stdout",
     "output_type": "stream",
     "text": [
      "Final dataset size: 484 samples\n"
     ]
    },
    {
     "name": "stderr",
     "output_type": "stream",
     "text": [
      "[*********************100%***********************]  1 of 1 completed\n"
     ]
    },
    {
     "name": "stdout",
     "output_type": "stream",
     "text": [
      "Final dataset size: 484 samples\n"
     ]
    },
    {
     "name": "stderr",
     "output_type": "stream",
     "text": [
      "[*********************100%***********************]  1 of 1 completed\n"
     ]
    },
    {
     "name": "stdout",
     "output_type": "stream",
     "text": [
      "Final dataset size: 277 samples\n"
     ]
    },
    {
     "name": "stderr",
     "output_type": "stream",
     "text": [
      "[*********************100%***********************]  1 of 1 completed\n"
     ]
    },
    {
     "name": "stdout",
     "output_type": "stream",
     "text": [
      "Final dataset size: 323 samples\n"
     ]
    },
    {
     "name": "stderr",
     "output_type": "stream",
     "text": [
      "[*********************100%***********************]  1 of 1 completed\n"
     ]
    },
    {
     "name": "stdout",
     "output_type": "stream",
     "text": [
      "Final dataset size: 484 samples\n"
     ]
    },
    {
     "name": "stderr",
     "output_type": "stream",
     "text": [
      "[*********************100%***********************]  1 of 1 completed\n"
     ]
    },
    {
     "name": "stdout",
     "output_type": "stream",
     "text": [
      "Final dataset size: 424 samples\n"
     ]
    },
    {
     "name": "stderr",
     "output_type": "stream",
     "text": [
      "[*********************100%***********************]  1 of 1 completed\n"
     ]
    },
    {
     "name": "stdout",
     "output_type": "stream",
     "text": [
      "Final dataset size: 484 samples\n"
     ]
    },
    {
     "name": "stderr",
     "output_type": "stream",
     "text": [
      "[*********************100%***********************]  1 of 1 completed\n"
     ]
    },
    {
     "name": "stdout",
     "output_type": "stream",
     "text": [
      "Final dataset size: 484 samples\n"
     ]
    },
    {
     "name": "stderr",
     "output_type": "stream",
     "text": [
      "[*********************100%***********************]  1 of 1 completed\n"
     ]
    },
    {
     "name": "stdout",
     "output_type": "stream",
     "text": [
      "Final dataset size: 484 samples\n"
     ]
    },
    {
     "name": "stderr",
     "output_type": "stream",
     "text": [
      "[*********************100%***********************]  1 of 1 completed\n"
     ]
    },
    {
     "name": "stdout",
     "output_type": "stream",
     "text": [
      "Final dataset size: 484 samples\n"
     ]
    },
    {
     "name": "stderr",
     "output_type": "stream",
     "text": [
      "[*********************100%***********************]  1 of 1 completed\n"
     ]
    },
    {
     "name": "stdout",
     "output_type": "stream",
     "text": [
      "Final dataset size: 484 samples\n"
     ]
    },
    {
     "name": "stderr",
     "output_type": "stream",
     "text": [
      "[*********************100%***********************]  1 of 1 completed\n"
     ]
    },
    {
     "name": "stdout",
     "output_type": "stream",
     "text": [
      "Final dataset size: 484 samples\n"
     ]
    },
    {
     "name": "stderr",
     "output_type": "stream",
     "text": [
      "[*********************100%***********************]  1 of 1 completed\n"
     ]
    },
    {
     "name": "stdout",
     "output_type": "stream",
     "text": [
      "Final dataset size: 484 samples\n"
     ]
    },
    {
     "name": "stderr",
     "output_type": "stream",
     "text": [
      "[*********************100%***********************]  1 of 1 completed\n"
     ]
    },
    {
     "name": "stdout",
     "output_type": "stream",
     "text": [
      "Final dataset size: 484 samples\n"
     ]
    },
    {
     "name": "stderr",
     "output_type": "stream",
     "text": [
      "[*********************100%***********************]  1 of 1 completed\n"
     ]
    },
    {
     "name": "stdout",
     "output_type": "stream",
     "text": [
      "Final dataset size: 484 samples\n"
     ]
    },
    {
     "name": "stderr",
     "output_type": "stream",
     "text": [
      "[*********************100%***********************]  1 of 1 completed\n"
     ]
    },
    {
     "name": "stdout",
     "output_type": "stream",
     "text": [
      "Final dataset size: 484 samples\n"
     ]
    },
    {
     "name": "stderr",
     "output_type": "stream",
     "text": [
      "[*********************100%***********************]  1 of 1 completed\n"
     ]
    },
    {
     "name": "stdout",
     "output_type": "stream",
     "text": [
      "Final dataset size: 484 samples\n"
     ]
    },
    {
     "name": "stderr",
     "output_type": "stream",
     "text": [
      "[*********************100%***********************]  1 of 1 completed\n"
     ]
    },
    {
     "name": "stdout",
     "output_type": "stream",
     "text": [
      "Final dataset size: 484 samples\n"
     ]
    },
    {
     "name": "stderr",
     "output_type": "stream",
     "text": [
      "[*********************100%***********************]  1 of 1 completed\n"
     ]
    },
    {
     "name": "stdout",
     "output_type": "stream",
     "text": [
      "Final dataset size: 484 samples\n"
     ]
    },
    {
     "name": "stderr",
     "output_type": "stream",
     "text": [
      "[*********************100%***********************]  1 of 1 completed\n"
     ]
    },
    {
     "name": "stdout",
     "output_type": "stream",
     "text": [
      "Final dataset size: 484 samples\n"
     ]
    },
    {
     "name": "stderr",
     "output_type": "stream",
     "text": [
      "[*********************100%***********************]  1 of 1 completed\n"
     ]
    },
    {
     "name": "stdout",
     "output_type": "stream",
     "text": [
      "Final dataset size: 484 samples\n"
     ]
    },
    {
     "name": "stderr",
     "output_type": "stream",
     "text": [
      "[*********************100%***********************]  1 of 1 completed\n",
      "[*********************100%***********************]  1 of 1 completed"
     ]
    },
    {
     "name": "stdout",
     "output_type": "stream",
     "text": [
      "Final dataset size: 484 samples\n",
      "Final dataset size: 7 samples\n",
      "(14374, 3, 100)\n",
      "(14374,)\n"
     ]
    },
    {
     "name": "stderr",
     "output_type": "stream",
     "text": [
      "\n"
     ]
    }
   ],
   "source": [
    "tickers = [\n",
    "    # Technology\n",
    "    \"AAPL\",  # Apple Inc.\n",
    "    \"MSFT\",  # Microsoft Corporation\n",
    "    \"GOOGL\", # Alphabet Inc. (Google)\n",
    "    \"AMZN\",  # Amazon.com Inc.\n",
    "    \"TSLA\",  # Tesla Inc.\n",
    "    \"NVDA\",  # NVIDIA Corporation\n",
    "    \"META\",  # Meta Platforms Inc. (Facebook)\n",
    "    \"AMD\",   # Advanced Micro Devices Inc.\n",
    "    \"INTC\",  # Intel Corporation\n",
    "    \"CSCO\",  # Cisco Systems Inc.\n",
    "\n",
    "    # Finance\n",
    "    \"BRK-B\", # Berkshire Hathaway Inc.\n",
    "    \"JPM\",   # JPMorgan Chase & Co.\n",
    "    \"V\",     # Visa Inc.\n",
    "    \"MA\",    # Mastercard Inc.\n",
    "    \"GS\",    # Goldman Sachs Group Inc.\n",
    "\n",
    "    # Consumer Goods & Retail\n",
    "    \"NFLX\",  # Netflix Inc.\n",
    "    \"DIS\",   # Walt Disney Co.\n",
    "    \"PG\",    # Procter & Gamble Co.\n",
    "    \"PEP\",   # PepsiCo Inc.\n",
    "    \"KO\",    # The Coca-Cola Company\n",
    "    \"MCD\",   # McDonald's Corporation\n",
    "    \"WMT\",   # Walmart Inc.\n",
    "    \"TGT\",   # Target Corporation\n",
    "    \"NKE\",   # Nike Inc.\n",
    "\n",
    "    # Energy & Industrials\n",
    "    \"XOM\",   # Exxon Mobil Corporation\n",
    "    \"CVX\",   # Chevron Corporation\n",
    "    \"BA\",    # Boeing Co.\n",
    "    \"CAT\",   # Caterpillar Inc.\n",
    "\n",
    "    # Healthcare & Pharmaceuticals\n",
    "    \"UNH\",   # UnitedHealth Group Incorporated\n",
    "    \"PFE\",   # Pfizer Inc.\n",
    "    \"JNJ\",   # Johnson & Johnson\n",
    "    \"LLY\",   # Eli Lilly and Co.\n",
    "    \"MRNA\",  # Moderna Inc.\n",
    "]\n",
    "\n",
    "X=[]\n",
    "y=[]\n",
    "for stock in tickers:\n",
    "    data = yf.download(stock, start=\"2000-01-01\", end=\"2020-01-01\")[[\"Close\", \"Volume\"]].dropna()\n",
    "    features,labels=extract_features_and_labels(stock, data, strategy=\"momentum\",feature_window_length=100)\n",
    "    X.append(features)\n",
    "    y.append(labels)\n",
    "\n",
    "X=np.concatenate(X)\n",
    "y=np.concatenate(y)\n",
    "print(X.shape)\n",
    "print(y.shape)"
   ]
  },
  {
   "cell_type": "code",
   "execution_count": 3,
   "metadata": {},
   "outputs": [],
   "source": [
    "class TradingDataset(Dataset):\n",
    "    def __init__(self, features, labels):\n",
    "        self.features = torch.tensor(features, dtype=torch.float32)\n",
    "        self.labels = torch.tensor(labels, dtype=torch.float32).view(-1, 1)\n",
    "\n",
    "    def __len__(self):\n",
    "        return len(self.features)\n",
    "\n",
    "    def __getitem__(self, idx):\n",
    "        return self.features[idx], self.labels[idx]"
   ]
  },
  {
   "cell_type": "code",
   "execution_count": 4,
   "metadata": {},
   "outputs": [],
   "source": [
    "import torch.nn as nn\n",
    "import torch.nn.functional as F\n",
    "\n",
    "class CNNBlock(nn.Module):\n",
    "    def __init__(self, in_channels, out_channels, kernel_size=3):\n",
    "        super(CNNBlock, self).__init__()\n",
    "        self.conv = nn.Conv1d(in_channels, out_channels, kernel_size=kernel_size, padding='same')\n",
    "        self.bn = nn.BatchNorm1d(out_channels)\n",
    "        self.pool = nn.MaxPool1d(kernel_size=2, stride=2)\n",
    "        self.dropout = nn.Dropout(0.5)\n",
    "\n",
    "    def forward(self, x):\n",
    "        x = F.relu(self.bn(self.conv(x)))  # Conv -> BN -> ReLU\n",
    "        x = self.pool(x)  # Max pooling\n",
    "        x = self.dropout(x)  # Dropout\n",
    "        return x\n",
    "\n",
    "class TradingCNN(nn.Module):\n",
    "    def __init__(self, input_channels, input_length):\n",
    "        super(TradingCNN, self).__init__()\n",
    "\n",
    "        # Feature Extraction: 3 CNN layers\n",
    "        self.conv_layers = nn.Sequential(\n",
    "            CNNBlock(input_channels, 64),\n",
    "            CNNBlock(64, 128),\n",
    "            CNNBlock(128, 256)\n",
    "        )\n",
    "\n",
    "        # Fully Connected Layers\n",
    "        self.fc_layers = nn.Sequential(\n",
    "            nn.Flatten(),\n",
    "            nn.Linear(256 * (input_length // 8), 512),\n",
    "            nn.BatchNorm1d(512),\n",
    "            nn.ReLU(),\n",
    "            nn.Dropout(0.5),\n",
    "            nn.Linear(512, 1)  # Output: Binary classification\n",
    "        )\n",
    "\n",
    "    def forward(self, x):\n",
    "        x = self.conv_layers(x)\n",
    "        x = self.fc_layers(x)\n",
    "        return x"
   ]
  },
  {
   "cell_type": "code",
   "execution_count": 5,
   "metadata": {},
   "outputs": [
    {
     "name": "stderr",
     "output_type": "stream",
     "text": [
      "c:\\Users\\piotr\\anaconda3\\Lib\\site-packages\\ignite\\handlers\\tqdm_logger.py:127: TqdmExperimentalWarning: Using `tqdm.autonotebook.tqdm` in notebook mode. Use `tqdm.tqdm` instead to force console mode (e.g. in jupyter console)\n",
      "  from tqdm.autonotebook import tqdm\n"
     ]
    },
    {
     "data": {
      "text/plain": [
       "<ignite.engine.events.RemovableEventHandle at 0x19df69d9a00>"
      ]
     },
     "execution_count": 5,
     "metadata": {},
     "output_type": "execute_result"
    }
   ],
   "source": [
    "import torch.optim as optim\n",
    "from torch.utils.data import DataLoader\n",
    "from ignite.engine import Engine, Events, create_supervised_trainer, create_supervised_evaluator\n",
    "from ignite.metrics import Accuracy, Loss, Precision, Recall\n",
    "from ignite.handlers import EarlyStopping, ModelCheckpoint, TerminateOnNan\n",
    "from ignite.contrib.handlers import ProgressBar\n",
    "\n",
    "# Create datasets and dataloaders\n",
    "train_dataset = TradingDataset(X, y)\n",
    "train_loader = DataLoader(train_dataset, batch_size=32, shuffle=True)\n",
    "\n",
    "# Define device\n",
    "device = torch.device(\"cuda\" if torch.cuda.is_available() else \"cpu\")\n",
    "\n",
    "# Instantiate the model\n",
    "input_channels = X.shape[1]\n",
    "input_length = X.shape[2]\n",
    "model = TradingCNN(input_channels, input_length).to(device)\n",
    "\n",
    "# Define loss function and optimizer\n",
    "criterion = nn.BCEWithLogitsLoss().to(device)\n",
    "optimizer = optim.Adam(model.parameters(), lr=0.001)\n",
    "\n",
    "# Create the trainer and evaluators\n",
    "trainer = create_supervised_trainer(model, optimizer, criterion, device=device)\n",
    "def thresholded_output_transform(output):\n",
    "    y_pred, y = output\n",
    "    y_pred = torch.round(torch.sigmoid(y_pred))  # Apply sigmoid and round to get binary output\n",
    "    return y_pred, y\n",
    "val_metrics = {\n",
    "    \"accuracy\": Accuracy(output_transform=thresholded_output_transform),\n",
    "    \"precision\": Precision(output_transform=thresholded_output_transform),\n",
    "    \"recall\": Recall(output_transform=thresholded_output_transform),\n",
    "    \"loss\": Loss(criterion)\n",
    "}\n",
    "train_evaluator = create_supervised_evaluator(model, metrics=val_metrics, device=device)\n",
    "val_evaluator = create_supervised_evaluator(model, metrics=val_metrics, device=device)\n",
    "\n",
    "# Attach progress bar to the trainer\n",
    "pbar = ProgressBar(persist=True)\n",
    "pbar.attach(trainer, output_transform=lambda x: {\"loss\": x})\n",
    "\n",
    "# Validation after each epoch\n",
    "@trainer.on(Events.EPOCH_COMPLETED)\n",
    "def run_validation(engine):\n",
    "    val_evaluator.run(train_loader)\n",
    "    metrics = val_evaluator.state.metrics\n",
    "    avg_accuracy = metrics['accuracy']\n",
    "    avg_loss = metrics['loss']\n",
    "    print(f\"\\nValidation - Epoch: {engine.state.epoch} | Avg accuracy: {avg_accuracy:.4f} | Avg loss: {avg_loss:.4f}\")\n",
    "\n",
    "# Early stopping and model checkpointing\n",
    "early_stopping = EarlyStopping(patience=10, score_function=lambda engine: -engine.state.metrics[\"loss\"], trainer=trainer)\n",
    "val_evaluator.add_event_handler(Events.COMPLETED, early_stopping)\n",
    "trainer.add_event_handler(Events.ITERATION_COMPLETED, TerminateOnNan())\n",
    "\n",
    "checkpoint_handler = ModelCheckpoint(dirname='checkpoints', filename_prefix='trading_cnn', n_saved=1, create_dir=True, require_empty=False, score_function=lambda e: -e.state.metrics[\"loss\"], score_name=\"val_loss\", global_step_transform=lambda e, _: e.state.epoch)\n",
    "val_evaluator.add_event_handler(Events.COMPLETED, checkpoint_handler, {'best_model': model})\n"
   ]
  },
  {
   "cell_type": "code",
   "execution_count": 6,
   "metadata": {},
   "outputs": [
    {
     "data": {
      "application/vnd.jupyter.widget-view+json": {
       "model_id": "27b667341f2d4065a9a9e1590cfafa60",
       "version_major": 2,
       "version_minor": 0
      },
      "text/plain": [
       "[1/450]   0%|           [00:00<?]"
      ]
     },
     "metadata": {},
     "output_type": "display_data"
    },
    {
     "name": "stdout",
     "output_type": "stream",
     "text": [
      "\n",
      "Validation - Epoch: 1 | Avg accuracy: 0.5856 | Avg loss: 0.6922\n"
     ]
    },
    {
     "data": {
      "application/vnd.jupyter.widget-view+json": {
       "model_id": "74a1f28ce981431bb5f7477a5dffcf52",
       "version_major": 2,
       "version_minor": 0
      },
      "text/plain": [
       "[1/450]   0%|           [00:00<?]"
      ]
     },
     "metadata": {},
     "output_type": "display_data"
    },
    {
     "name": "stdout",
     "output_type": "stream",
     "text": [
      "\n",
      "Validation - Epoch: 2 | Avg accuracy: 0.7055 | Avg loss: 0.5976\n"
     ]
    },
    {
     "data": {
      "application/vnd.jupyter.widget-view+json": {
       "model_id": "f98b502e3f74461f97fa7cb547da9773",
       "version_major": 2,
       "version_minor": 0
      },
      "text/plain": [
       "[1/450]   0%|           [00:00<?]"
      ]
     },
     "metadata": {},
     "output_type": "display_data"
    },
    {
     "name": "stdout",
     "output_type": "stream",
     "text": [
      "\n",
      "Validation - Epoch: 3 | Avg accuracy: 0.7616 | Avg loss: 0.5062\n"
     ]
    },
    {
     "data": {
      "application/vnd.jupyter.widget-view+json": {
       "model_id": "a2f069614c314ebe84d9559509d32502",
       "version_major": 2,
       "version_minor": 0
      },
      "text/plain": [
       "[1/450]   0%|           [00:00<?]"
      ]
     },
     "metadata": {},
     "output_type": "display_data"
    },
    {
     "name": "stdout",
     "output_type": "stream",
     "text": [
      "\n",
      "Validation - Epoch: 4 | Avg accuracy: 0.7895 | Avg loss: 0.4535\n"
     ]
    },
    {
     "data": {
      "application/vnd.jupyter.widget-view+json": {
       "model_id": "54a0b0ca486c4538945e0225b0467f4f",
       "version_major": 2,
       "version_minor": 0
      },
      "text/plain": [
       "[1/450]   0%|           [00:00<?]"
      ]
     },
     "metadata": {},
     "output_type": "display_data"
    },
    {
     "name": "stdout",
     "output_type": "stream",
     "text": [
      "\n",
      "Validation - Epoch: 5 | Avg accuracy: 0.7795 | Avg loss: 0.4610\n"
     ]
    },
    {
     "data": {
      "application/vnd.jupyter.widget-view+json": {
       "model_id": "3ee4510111e94d1a9c4eccf76a867a81",
       "version_major": 2,
       "version_minor": 0
      },
      "text/plain": [
       "[1/450]   0%|           [00:00<?]"
      ]
     },
     "metadata": {},
     "output_type": "display_data"
    },
    {
     "name": "stdout",
     "output_type": "stream",
     "text": [
      "\n",
      "Validation - Epoch: 6 | Avg accuracy: 0.7948 | Avg loss: 0.4439\n"
     ]
    },
    {
     "data": {
      "application/vnd.jupyter.widget-view+json": {
       "model_id": "9722ca48321b43939e7505dde3a73b68",
       "version_major": 2,
       "version_minor": 0
      },
      "text/plain": [
       "[1/450]   0%|           [00:00<?]"
      ]
     },
     "metadata": {},
     "output_type": "display_data"
    },
    {
     "name": "stdout",
     "output_type": "stream",
     "text": [
      "\n",
      "Validation - Epoch: 7 | Avg accuracy: 0.8254 | Avg loss: 0.4018\n"
     ]
    },
    {
     "data": {
      "application/vnd.jupyter.widget-view+json": {
       "model_id": "c8608b5c69bc44b4924687ecde97c5c3",
       "version_major": 2,
       "version_minor": 0
      },
      "text/plain": [
       "[1/450]   0%|           [00:00<?]"
      ]
     },
     "metadata": {},
     "output_type": "display_data"
    },
    {
     "name": "stdout",
     "output_type": "stream",
     "text": [
      "\n",
      "Validation - Epoch: 8 | Avg accuracy: 0.8007 | Avg loss: 0.4303\n"
     ]
    },
    {
     "data": {
      "application/vnd.jupyter.widget-view+json": {
       "model_id": "e1bd2ad5ddd742108feaf7ad11ec32c2",
       "version_major": 2,
       "version_minor": 0
      },
      "text/plain": [
       "[1/450]   0%|           [00:00<?]"
      ]
     },
     "metadata": {},
     "output_type": "display_data"
    },
    {
     "name": "stdout",
     "output_type": "stream",
     "text": [
      "\n",
      "Validation - Epoch: 9 | Avg accuracy: 0.8286 | Avg loss: 0.3851\n"
     ]
    },
    {
     "data": {
      "application/vnd.jupyter.widget-view+json": {
       "model_id": "e17e3a25288c470a947cb30104fd5378",
       "version_major": 2,
       "version_minor": 0
      },
      "text/plain": [
       "[1/450]   0%|           [00:00<?]"
      ]
     },
     "metadata": {},
     "output_type": "display_data"
    },
    {
     "name": "stdout",
     "output_type": "stream",
     "text": [
      "\n",
      "Validation - Epoch: 10 | Avg accuracy: 0.8301 | Avg loss: 0.3831\n"
     ]
    },
    {
     "data": {
      "application/vnd.jupyter.widget-view+json": {
       "model_id": "46ad54f48fdd4cfe981e3fbc74394935",
       "version_major": 2,
       "version_minor": 0
      },
      "text/plain": [
       "[1/450]   0%|           [00:00<?]"
      ]
     },
     "metadata": {},
     "output_type": "display_data"
    },
    {
     "name": "stdout",
     "output_type": "stream",
     "text": [
      "\n",
      "Validation - Epoch: 11 | Avg accuracy: 0.7936 | Avg loss: 0.4359\n"
     ]
    },
    {
     "data": {
      "application/vnd.jupyter.widget-view+json": {
       "model_id": "221d4df3de6447e9b22b64cf16f534db",
       "version_major": 2,
       "version_minor": 0
      },
      "text/plain": [
       "[1/450]   0%|           [00:00<?]"
      ]
     },
     "metadata": {},
     "output_type": "display_data"
    },
    {
     "name": "stdout",
     "output_type": "stream",
     "text": [
      "\n",
      "Validation - Epoch: 12 | Avg accuracy: 0.8020 | Avg loss: 0.4303\n"
     ]
    },
    {
     "data": {
      "application/vnd.jupyter.widget-view+json": {
       "model_id": "fd3fe4abaa8b4ccf9ba11babb3446460",
       "version_major": 2,
       "version_minor": 0
      },
      "text/plain": [
       "[1/450]   0%|           [00:00<?]"
      ]
     },
     "metadata": {},
     "output_type": "display_data"
    },
    {
     "name": "stdout",
     "output_type": "stream",
     "text": [
      "\n",
      "Validation - Epoch: 13 | Avg accuracy: 0.8330 | Avg loss: 0.3645\n"
     ]
    },
    {
     "data": {
      "application/vnd.jupyter.widget-view+json": {
       "model_id": "ef104c2c1dd748d085bb057b2e36db55",
       "version_major": 2,
       "version_minor": 0
      },
      "text/plain": [
       "[1/450]   0%|           [00:00<?]"
      ]
     },
     "metadata": {},
     "output_type": "display_data"
    },
    {
     "name": "stdout",
     "output_type": "stream",
     "text": [
      "\n",
      "Validation - Epoch: 14 | Avg accuracy: 0.8195 | Avg loss: 0.4003\n"
     ]
    },
    {
     "data": {
      "application/vnd.jupyter.widget-view+json": {
       "model_id": "bbbcfbf9b92f4e09a74ca7d373c8efdb",
       "version_major": 2,
       "version_minor": 0
      },
      "text/plain": [
       "[1/450]   0%|           [00:00<?]"
      ]
     },
     "metadata": {},
     "output_type": "display_data"
    },
    {
     "name": "stdout",
     "output_type": "stream",
     "text": [
      "\n",
      "Validation - Epoch: 15 | Avg accuracy: 0.8412 | Avg loss: 0.3706\n"
     ]
    },
    {
     "data": {
      "application/vnd.jupyter.widget-view+json": {
       "model_id": "8edb9bc7a4ac434a993e067eb5686299",
       "version_major": 2,
       "version_minor": 0
      },
      "text/plain": [
       "[1/450]   0%|           [00:00<?]"
      ]
     },
     "metadata": {},
     "output_type": "display_data"
    },
    {
     "name": "stdout",
     "output_type": "stream",
     "text": [
      "\n",
      "Validation - Epoch: 16 | Avg accuracy: 0.8369 | Avg loss: 0.3717\n"
     ]
    },
    {
     "data": {
      "application/vnd.jupyter.widget-view+json": {
       "model_id": "c4babe9ff5f4425f84f09cb9ac3c75bf",
       "version_major": 2,
       "version_minor": 0
      },
      "text/plain": [
       "[1/450]   0%|           [00:00<?]"
      ]
     },
     "metadata": {},
     "output_type": "display_data"
    },
    {
     "name": "stdout",
     "output_type": "stream",
     "text": [
      "\n",
      "Validation - Epoch: 17 | Avg accuracy: 0.8387 | Avg loss: 0.3678\n"
     ]
    },
    {
     "data": {
      "application/vnd.jupyter.widget-view+json": {
       "model_id": "0658b1d8409048f9b9ae52760f6da4c6",
       "version_major": 2,
       "version_minor": 0
      },
      "text/plain": [
       "[1/450]   0%|           [00:00<?]"
      ]
     },
     "metadata": {},
     "output_type": "display_data"
    },
    {
     "name": "stdout",
     "output_type": "stream",
     "text": [
      "\n",
      "Validation - Epoch: 18 | Avg accuracy: 0.8332 | Avg loss: 0.3718\n"
     ]
    },
    {
     "data": {
      "application/vnd.jupyter.widget-view+json": {
       "model_id": "74580defbb184f2da94d792292ec617e",
       "version_major": 2,
       "version_minor": 0
      },
      "text/plain": [
       "[1/450]   0%|           [00:00<?]"
      ]
     },
     "metadata": {},
     "output_type": "display_data"
    },
    {
     "name": "stdout",
     "output_type": "stream",
     "text": [
      "\n",
      "Validation - Epoch: 19 | Avg accuracy: 0.8345 | Avg loss: 0.3731\n"
     ]
    },
    {
     "data": {
      "application/vnd.jupyter.widget-view+json": {
       "model_id": "28c147683e104f6bb62302f788b5d275",
       "version_major": 2,
       "version_minor": 0
      },
      "text/plain": [
       "[1/450]   0%|           [00:00<?]"
      ]
     },
     "metadata": {},
     "output_type": "display_data"
    },
    {
     "name": "stdout",
     "output_type": "stream",
     "text": [
      "\n",
      "Validation - Epoch: 20 | Avg accuracy: 0.8348 | Avg loss: 0.3703\n"
     ]
    },
    {
     "data": {
      "application/vnd.jupyter.widget-view+json": {
       "model_id": "42b7d75a99f94a37a62780cb9b2df2e1",
       "version_major": 2,
       "version_minor": 0
      },
      "text/plain": [
       "[1/450]   0%|           [00:00<?]"
      ]
     },
     "metadata": {},
     "output_type": "display_data"
    },
    {
     "name": "stdout",
     "output_type": "stream",
     "text": [
      "\n",
      "Validation - Epoch: 21 | Avg accuracy: 0.8446 | Avg loss: 0.3484\n"
     ]
    },
    {
     "data": {
      "application/vnd.jupyter.widget-view+json": {
       "model_id": "05534620480a4c0ca1d7d1694852fcfd",
       "version_major": 2,
       "version_minor": 0
      },
      "text/plain": [
       "[1/450]   0%|           [00:00<?]"
      ]
     },
     "metadata": {},
     "output_type": "display_data"
    },
    {
     "name": "stdout",
     "output_type": "stream",
     "text": [
      "\n",
      "Validation - Epoch: 22 | Avg accuracy: 0.8448 | Avg loss: 0.3496\n"
     ]
    },
    {
     "data": {
      "application/vnd.jupyter.widget-view+json": {
       "model_id": "bea0f24df51740e8b4b03cb33d536d1f",
       "version_major": 2,
       "version_minor": 0
      },
      "text/plain": [
       "[1/450]   0%|           [00:00<?]"
      ]
     },
     "metadata": {},
     "output_type": "display_data"
    },
    {
     "name": "stdout",
     "output_type": "stream",
     "text": [
      "\n",
      "Validation - Epoch: 23 | Avg accuracy: 0.8396 | Avg loss: 0.3512\n"
     ]
    },
    {
     "data": {
      "application/vnd.jupyter.widget-view+json": {
       "model_id": "fce420dbb14d4a33ae8f5007ceffb88e",
       "version_major": 2,
       "version_minor": 0
      },
      "text/plain": [
       "[1/450]   0%|           [00:00<?]"
      ]
     },
     "metadata": {},
     "output_type": "display_data"
    },
    {
     "name": "stdout",
     "output_type": "stream",
     "text": [
      "\n",
      "Validation - Epoch: 24 | Avg accuracy: 0.8422 | Avg loss: 0.3437\n"
     ]
    },
    {
     "data": {
      "application/vnd.jupyter.widget-view+json": {
       "model_id": "7ff0f2ddfa41401e88faa3bf373d7922",
       "version_major": 2,
       "version_minor": 0
      },
      "text/plain": [
       "[1/450]   0%|           [00:00<?]"
      ]
     },
     "metadata": {},
     "output_type": "display_data"
    },
    {
     "name": "stdout",
     "output_type": "stream",
     "text": [
      "\n",
      "Validation - Epoch: 25 | Avg accuracy: 0.8378 | Avg loss: 0.3606\n"
     ]
    },
    {
     "data": {
      "application/vnd.jupyter.widget-view+json": {
       "model_id": "b88e07681b564c8d9788f072a1598aa1",
       "version_major": 2,
       "version_minor": 0
      },
      "text/plain": [
       "[1/450]   0%|           [00:00<?]"
      ]
     },
     "metadata": {},
     "output_type": "display_data"
    },
    {
     "name": "stdout",
     "output_type": "stream",
     "text": [
      "\n",
      "Validation - Epoch: 26 | Avg accuracy: 0.8504 | Avg loss: 0.3459\n"
     ]
    },
    {
     "data": {
      "application/vnd.jupyter.widget-view+json": {
       "model_id": "35dcda93499446629ef43a0cad7ace54",
       "version_major": 2,
       "version_minor": 0
      },
      "text/plain": [
       "[1/450]   0%|           [00:00<?]"
      ]
     },
     "metadata": {},
     "output_type": "display_data"
    },
    {
     "name": "stdout",
     "output_type": "stream",
     "text": [
      "\n",
      "Validation - Epoch: 27 | Avg accuracy: 0.8495 | Avg loss: 0.3366\n"
     ]
    },
    {
     "data": {
      "application/vnd.jupyter.widget-view+json": {
       "model_id": "2eaa294edc4e44628da22beee40ff5fe",
       "version_major": 2,
       "version_minor": 0
      },
      "text/plain": [
       "[1/450]   0%|           [00:00<?]"
      ]
     },
     "metadata": {},
     "output_type": "display_data"
    },
    {
     "name": "stdout",
     "output_type": "stream",
     "text": [
      "\n",
      "Validation - Epoch: 28 | Avg accuracy: 0.8458 | Avg loss: 0.3550\n"
     ]
    },
    {
     "data": {
      "application/vnd.jupyter.widget-view+json": {
       "model_id": "dd8a86f10a334b10a0fdbd3c1d5d0036",
       "version_major": 2,
       "version_minor": 0
      },
      "text/plain": [
       "[1/450]   0%|           [00:00<?]"
      ]
     },
     "metadata": {},
     "output_type": "display_data"
    },
    {
     "name": "stdout",
     "output_type": "stream",
     "text": [
      "\n",
      "Validation - Epoch: 29 | Avg accuracy: 0.8398 | Avg loss: 0.3534\n"
     ]
    },
    {
     "data": {
      "application/vnd.jupyter.widget-view+json": {
       "model_id": "9072eac4ed1b47eeb805635d10f15857",
       "version_major": 2,
       "version_minor": 0
      },
      "text/plain": [
       "[1/450]   0%|           [00:00<?]"
      ]
     },
     "metadata": {},
     "output_type": "display_data"
    },
    {
     "name": "stdout",
     "output_type": "stream",
     "text": [
      "\n",
      "Validation - Epoch: 30 | Avg accuracy: 0.8406 | Avg loss: 0.3615\n"
     ]
    },
    {
     "data": {
      "application/vnd.jupyter.widget-view+json": {
       "model_id": "f1a69fcd38ad42ebb75eff1b8238e9ba",
       "version_major": 2,
       "version_minor": 0
      },
      "text/plain": [
       "[1/450]   0%|           [00:00<?]"
      ]
     },
     "metadata": {},
     "output_type": "display_data"
    },
    {
     "name": "stdout",
     "output_type": "stream",
     "text": [
      "\n",
      "Validation - Epoch: 31 | Avg accuracy: 0.8441 | Avg loss: 0.3432\n"
     ]
    },
    {
     "data": {
      "application/vnd.jupyter.widget-view+json": {
       "model_id": "8631ac8109cb476099bc3401ccb26abe",
       "version_major": 2,
       "version_minor": 0
      },
      "text/plain": [
       "[1/450]   0%|           [00:00<?]"
      ]
     },
     "metadata": {},
     "output_type": "display_data"
    },
    {
     "name": "stdout",
     "output_type": "stream",
     "text": [
      "\n",
      "Validation - Epoch: 32 | Avg accuracy: 0.8316 | Avg loss: 0.3677\n"
     ]
    },
    {
     "data": {
      "application/vnd.jupyter.widget-view+json": {
       "model_id": "f6b89f22f7e34882a3682a8992e3fc3d",
       "version_major": 2,
       "version_minor": 0
      },
      "text/plain": [
       "[1/450]   0%|           [00:00<?]"
      ]
     },
     "metadata": {},
     "output_type": "display_data"
    },
    {
     "name": "stdout",
     "output_type": "stream",
     "text": [
      "\n",
      "Validation - Epoch: 33 | Avg accuracy: 0.8530 | Avg loss: 0.3335\n"
     ]
    },
    {
     "data": {
      "application/vnd.jupyter.widget-view+json": {
       "model_id": "d5b4ea78e9b54327ad5764061f784a65",
       "version_major": 2,
       "version_minor": 0
      },
      "text/plain": [
       "[1/450]   0%|           [00:00<?]"
      ]
     },
     "metadata": {},
     "output_type": "display_data"
    },
    {
     "name": "stdout",
     "output_type": "stream",
     "text": [
      "\n",
      "Validation - Epoch: 34 | Avg accuracy: 0.8298 | Avg loss: 0.3770\n"
     ]
    },
    {
     "data": {
      "application/vnd.jupyter.widget-view+json": {
       "model_id": "988aa3179cb94b9194a6759e6c9aee78",
       "version_major": 2,
       "version_minor": 0
      },
      "text/plain": [
       "[1/450]   0%|           [00:00<?]"
      ]
     },
     "metadata": {},
     "output_type": "display_data"
    },
    {
     "name": "stdout",
     "output_type": "stream",
     "text": [
      "\n",
      "Validation - Epoch: 35 | Avg accuracy: 0.8507 | Avg loss: 0.3427\n"
     ]
    },
    {
     "data": {
      "application/vnd.jupyter.widget-view+json": {
       "model_id": "df7fc7edfe3b435c94bea878ac2b724b",
       "version_major": 2,
       "version_minor": 0
      },
      "text/plain": [
       "[1/450]   0%|           [00:00<?]"
      ]
     },
     "metadata": {},
     "output_type": "display_data"
    },
    {
     "name": "stdout",
     "output_type": "stream",
     "text": [
      "\n",
      "Validation - Epoch: 36 | Avg accuracy: 0.8323 | Avg loss: 0.3707\n"
     ]
    },
    {
     "data": {
      "application/vnd.jupyter.widget-view+json": {
       "model_id": "8ce6c2103d744782926074ddd6645bd0",
       "version_major": 2,
       "version_minor": 0
      },
      "text/plain": [
       "[1/450]   0%|           [00:00<?]"
      ]
     },
     "metadata": {},
     "output_type": "display_data"
    },
    {
     "name": "stdout",
     "output_type": "stream",
     "text": [
      "\n",
      "Validation - Epoch: 37 | Avg accuracy: 0.8505 | Avg loss: 0.3446\n"
     ]
    },
    {
     "data": {
      "application/vnd.jupyter.widget-view+json": {
       "model_id": "d482daee47064944a541277c3357abae",
       "version_major": 2,
       "version_minor": 0
      },
      "text/plain": [
       "[1/450]   0%|           [00:00<?]"
      ]
     },
     "metadata": {},
     "output_type": "display_data"
    },
    {
     "name": "stdout",
     "output_type": "stream",
     "text": [
      "\n",
      "Validation - Epoch: 38 | Avg accuracy: 0.8426 | Avg loss: 0.3536\n"
     ]
    },
    {
     "data": {
      "application/vnd.jupyter.widget-view+json": {
       "model_id": "85c748332fe94e2da350619766a5c627",
       "version_major": 2,
       "version_minor": 0
      },
      "text/plain": [
       "[1/450]   0%|           [00:00<?]"
      ]
     },
     "metadata": {},
     "output_type": "display_data"
    },
    {
     "name": "stdout",
     "output_type": "stream",
     "text": [
      "\n",
      "Validation - Epoch: 39 | Avg accuracy: 0.8545 | Avg loss: 0.3309\n"
     ]
    },
    {
     "data": {
      "application/vnd.jupyter.widget-view+json": {
       "model_id": "56881a103f924e16a7d1727d04f71e59",
       "version_major": 2,
       "version_minor": 0
      },
      "text/plain": [
       "[1/450]   0%|           [00:00<?]"
      ]
     },
     "metadata": {},
     "output_type": "display_data"
    },
    {
     "name": "stdout",
     "output_type": "stream",
     "text": [
      "\n",
      "Validation - Epoch: 40 | Avg accuracy: 0.8467 | Avg loss: 0.3404\n"
     ]
    },
    {
     "data": {
      "application/vnd.jupyter.widget-view+json": {
       "model_id": "70a210a9724a4c1a8b38a16ae9185812",
       "version_major": 2,
       "version_minor": 0
      },
      "text/plain": [
       "[1/450]   0%|           [00:00<?]"
      ]
     },
     "metadata": {},
     "output_type": "display_data"
    },
    {
     "name": "stdout",
     "output_type": "stream",
     "text": [
      "\n",
      "Validation - Epoch: 41 | Avg accuracy: 0.8414 | Avg loss: 0.3480\n"
     ]
    },
    {
     "data": {
      "application/vnd.jupyter.widget-view+json": {
       "model_id": "a6b0344937e54f689db08909c9556cb1",
       "version_major": 2,
       "version_minor": 0
      },
      "text/plain": [
       "[1/450]   0%|           [00:00<?]"
      ]
     },
     "metadata": {},
     "output_type": "display_data"
    },
    {
     "name": "stdout",
     "output_type": "stream",
     "text": [
      "\n",
      "Validation - Epoch: 42 | Avg accuracy: 0.8545 | Avg loss: 0.3284\n"
     ]
    },
    {
     "data": {
      "application/vnd.jupyter.widget-view+json": {
       "model_id": "3a2d2e3cbae64b8f8bdc020e71bce495",
       "version_major": 2,
       "version_minor": 0
      },
      "text/plain": [
       "[1/450]   0%|           [00:00<?]"
      ]
     },
     "metadata": {},
     "output_type": "display_data"
    },
    {
     "name": "stdout",
     "output_type": "stream",
     "text": [
      "\n",
      "Validation - Epoch: 43 | Avg accuracy: 0.8501 | Avg loss: 0.3397\n"
     ]
    },
    {
     "data": {
      "application/vnd.jupyter.widget-view+json": {
       "model_id": "868be75f818b4e15ba01af033fbc008e",
       "version_major": 2,
       "version_minor": 0
      },
      "text/plain": [
       "[1/450]   0%|           [00:00<?]"
      ]
     },
     "metadata": {},
     "output_type": "display_data"
    },
    {
     "name": "stdout",
     "output_type": "stream",
     "text": [
      "\n",
      "Validation - Epoch: 44 | Avg accuracy: 0.8437 | Avg loss: 0.3517\n"
     ]
    },
    {
     "data": {
      "application/vnd.jupyter.widget-view+json": {
       "model_id": "421e28008d724c01ae85511d5bde5644",
       "version_major": 2,
       "version_minor": 0
      },
      "text/plain": [
       "[1/450]   0%|           [00:00<?]"
      ]
     },
     "metadata": {},
     "output_type": "display_data"
    },
    {
     "name": "stdout",
     "output_type": "stream",
     "text": [
      "\n",
      "Validation - Epoch: 45 | Avg accuracy: 0.8528 | Avg loss: 0.3358\n"
     ]
    },
    {
     "data": {
      "application/vnd.jupyter.widget-view+json": {
       "model_id": "f323ea0f40f943bea8ba6b1de90b6eda",
       "version_major": 2,
       "version_minor": 0
      },
      "text/plain": [
       "[1/450]   0%|           [00:00<?]"
      ]
     },
     "metadata": {},
     "output_type": "display_data"
    },
    {
     "name": "stdout",
     "output_type": "stream",
     "text": [
      "\n",
      "Validation - Epoch: 46 | Avg accuracy: 0.8540 | Avg loss: 0.3297\n"
     ]
    },
    {
     "data": {
      "application/vnd.jupyter.widget-view+json": {
       "model_id": "0ef5d79c5743433a9a8bce486005eb32",
       "version_major": 2,
       "version_minor": 0
      },
      "text/plain": [
       "[1/450]   0%|           [00:00<?]"
      ]
     },
     "metadata": {},
     "output_type": "display_data"
    },
    {
     "name": "stdout",
     "output_type": "stream",
     "text": [
      "\n",
      "Validation - Epoch: 47 | Avg accuracy: 0.8570 | Avg loss: 0.3252\n"
     ]
    },
    {
     "data": {
      "application/vnd.jupyter.widget-view+json": {
       "model_id": "71637894c6fc4d9b9a9596a7c526701a",
       "version_major": 2,
       "version_minor": 0
      },
      "text/plain": [
       "[1/450]   0%|           [00:00<?]"
      ]
     },
     "metadata": {},
     "output_type": "display_data"
    },
    {
     "name": "stdout",
     "output_type": "stream",
     "text": [
      "\n",
      "Validation - Epoch: 48 | Avg accuracy: 0.8606 | Avg loss: 0.3188\n"
     ]
    },
    {
     "data": {
      "application/vnd.jupyter.widget-view+json": {
       "model_id": "409af2549d1c497d8979b963959ccf5c",
       "version_major": 2,
       "version_minor": 0
      },
      "text/plain": [
       "[1/450]   0%|           [00:00<?]"
      ]
     },
     "metadata": {},
     "output_type": "display_data"
    },
    {
     "name": "stdout",
     "output_type": "stream",
     "text": [
      "\n",
      "Validation - Epoch: 49 | Avg accuracy: 0.8629 | Avg loss: 0.3195\n"
     ]
    },
    {
     "data": {
      "application/vnd.jupyter.widget-view+json": {
       "model_id": "28daf1403a144ff78ea23d214ac80d62",
       "version_major": 2,
       "version_minor": 0
      },
      "text/plain": [
       "[1/450]   0%|           [00:00<?]"
      ]
     },
     "metadata": {},
     "output_type": "display_data"
    },
    {
     "name": "stdout",
     "output_type": "stream",
     "text": [
      "\n",
      "Validation - Epoch: 50 | Avg accuracy: 0.8628 | Avg loss: 0.3102\n"
     ]
    },
    {
     "data": {
      "application/vnd.jupyter.widget-view+json": {
       "model_id": "e669fdf265904d0da0c7c0ee9ca69510",
       "version_major": 2,
       "version_minor": 0
      },
      "text/plain": [
       "[1/450]   0%|           [00:00<?]"
      ]
     },
     "metadata": {},
     "output_type": "display_data"
    },
    {
     "name": "stdout",
     "output_type": "stream",
     "text": [
      "\n",
      "Validation - Epoch: 51 | Avg accuracy: 0.8555 | Avg loss: 0.3358\n"
     ]
    },
    {
     "data": {
      "application/vnd.jupyter.widget-view+json": {
       "model_id": "a167b33505e14217bdcbf6339b8fc70c",
       "version_major": 2,
       "version_minor": 0
      },
      "text/plain": [
       "[1/450]   0%|           [00:00<?]"
      ]
     },
     "metadata": {},
     "output_type": "display_data"
    },
    {
     "name": "stdout",
     "output_type": "stream",
     "text": [
      "\n",
      "Validation - Epoch: 52 | Avg accuracy: 0.8684 | Avg loss: 0.3123\n"
     ]
    },
    {
     "data": {
      "application/vnd.jupyter.widget-view+json": {
       "model_id": "47839ad897e64abaa4ad431f3c4a056e",
       "version_major": 2,
       "version_minor": 0
      },
      "text/plain": [
       "[1/450]   0%|           [00:00<?]"
      ]
     },
     "metadata": {},
     "output_type": "display_data"
    },
    {
     "name": "stdout",
     "output_type": "stream",
     "text": [
      "\n",
      "Validation - Epoch: 53 | Avg accuracy: 0.8544 | Avg loss: 0.3297\n"
     ]
    },
    {
     "data": {
      "application/vnd.jupyter.widget-view+json": {
       "model_id": "4408d87dae3c4b5f9b6376bce4f7ab80",
       "version_major": 2,
       "version_minor": 0
      },
      "text/plain": [
       "[1/450]   0%|           [00:00<?]"
      ]
     },
     "metadata": {},
     "output_type": "display_data"
    },
    {
     "name": "stdout",
     "output_type": "stream",
     "text": [
      "\n",
      "Validation - Epoch: 54 | Avg accuracy: 0.8604 | Avg loss: 0.3274\n"
     ]
    },
    {
     "data": {
      "application/vnd.jupyter.widget-view+json": {
       "model_id": "0c9b84edffd04d0a8d88f5656124e6e6",
       "version_major": 2,
       "version_minor": 0
      },
      "text/plain": [
       "[1/450]   0%|           [00:00<?]"
      ]
     },
     "metadata": {},
     "output_type": "display_data"
    },
    {
     "name": "stdout",
     "output_type": "stream",
     "text": [
      "\n",
      "Validation - Epoch: 55 | Avg accuracy: 0.8631 | Avg loss: 0.3145\n"
     ]
    },
    {
     "data": {
      "application/vnd.jupyter.widget-view+json": {
       "model_id": "8b490951a4be4c5199f1816252417002",
       "version_major": 2,
       "version_minor": 0
      },
      "text/plain": [
       "[1/450]   0%|           [00:00<?]"
      ]
     },
     "metadata": {},
     "output_type": "display_data"
    },
    {
     "name": "stdout",
     "output_type": "stream",
     "text": [
      "\n",
      "Validation - Epoch: 56 | Avg accuracy: 0.8647 | Avg loss: 0.3115\n"
     ]
    },
    {
     "data": {
      "application/vnd.jupyter.widget-view+json": {
       "model_id": "8978ebfa0ad743afba78386481050d28",
       "version_major": 2,
       "version_minor": 0
      },
      "text/plain": [
       "[1/450]   0%|           [00:00<?]"
      ]
     },
     "metadata": {},
     "output_type": "display_data"
    },
    {
     "name": "stdout",
     "output_type": "stream",
     "text": [
      "\n",
      "Validation - Epoch: 57 | Avg accuracy: 0.8722 | Avg loss: 0.3048\n"
     ]
    },
    {
     "data": {
      "application/vnd.jupyter.widget-view+json": {
       "model_id": "d7f99650aa6342109da66a11cc285eb6",
       "version_major": 2,
       "version_minor": 0
      },
      "text/plain": [
       "[1/450]   0%|           [00:00<?]"
      ]
     },
     "metadata": {},
     "output_type": "display_data"
    },
    {
     "name": "stdout",
     "output_type": "stream",
     "text": [
      "\n",
      "Validation - Epoch: 58 | Avg accuracy: 0.8719 | Avg loss: 0.2965\n"
     ]
    },
    {
     "data": {
      "application/vnd.jupyter.widget-view+json": {
       "model_id": "27088ac82ea54878beb0764d8c3caeee",
       "version_major": 2,
       "version_minor": 0
      },
      "text/plain": [
       "[1/450]   0%|           [00:00<?]"
      ]
     },
     "metadata": {},
     "output_type": "display_data"
    },
    {
     "name": "stdout",
     "output_type": "stream",
     "text": [
      "\n",
      "Validation - Epoch: 59 | Avg accuracy: 0.8688 | Avg loss: 0.3077\n"
     ]
    },
    {
     "data": {
      "application/vnd.jupyter.widget-view+json": {
       "model_id": "49382d6648d24b02a7062a31187e8bf6",
       "version_major": 2,
       "version_minor": 0
      },
      "text/plain": [
       "[1/450]   0%|           [00:00<?]"
      ]
     },
     "metadata": {},
     "output_type": "display_data"
    },
    {
     "name": "stdout",
     "output_type": "stream",
     "text": [
      "\n",
      "Validation - Epoch: 60 | Avg accuracy: 0.8573 | Avg loss: 0.3302\n"
     ]
    },
    {
     "data": {
      "application/vnd.jupyter.widget-view+json": {
       "model_id": "6f4f5eb7fffe46d6ab4671641cf57ba3",
       "version_major": 2,
       "version_minor": 0
      },
      "text/plain": [
       "[1/450]   0%|           [00:00<?]"
      ]
     },
     "metadata": {},
     "output_type": "display_data"
    },
    {
     "name": "stdout",
     "output_type": "stream",
     "text": [
      "\n",
      "Validation - Epoch: 61 | Avg accuracy: 0.8693 | Avg loss: 0.3063\n"
     ]
    },
    {
     "data": {
      "application/vnd.jupyter.widget-view+json": {
       "model_id": "a0a23cdd98274be1bd8f09b38dd8b053",
       "version_major": 2,
       "version_minor": 0
      },
      "text/plain": [
       "[1/450]   0%|           [00:00<?]"
      ]
     },
     "metadata": {},
     "output_type": "display_data"
    },
    {
     "name": "stdout",
     "output_type": "stream",
     "text": [
      "\n",
      "Validation - Epoch: 62 | Avg accuracy: 0.8622 | Avg loss: 0.3239\n"
     ]
    },
    {
     "data": {
      "application/vnd.jupyter.widget-view+json": {
       "model_id": "4a1ef3f1861c4469961ea1dfcfdc56d5",
       "version_major": 2,
       "version_minor": 0
      },
      "text/plain": [
       "[1/450]   0%|           [00:00<?]"
      ]
     },
     "metadata": {},
     "output_type": "display_data"
    },
    {
     "name": "stdout",
     "output_type": "stream",
     "text": [
      "\n",
      "Validation - Epoch: 63 | Avg accuracy: 0.8673 | Avg loss: 0.3108\n"
     ]
    },
    {
     "data": {
      "application/vnd.jupyter.widget-view+json": {
       "model_id": "b1dfcec6bf924b76b0a3047dee6edbbd",
       "version_major": 2,
       "version_minor": 0
      },
      "text/plain": [
       "[1/450]   0%|           [00:00<?]"
      ]
     },
     "metadata": {},
     "output_type": "display_data"
    },
    {
     "name": "stdout",
     "output_type": "stream",
     "text": [
      "\n",
      "Validation - Epoch: 64 | Avg accuracy: 0.8737 | Avg loss: 0.2924\n"
     ]
    },
    {
     "data": {
      "application/vnd.jupyter.widget-view+json": {
       "model_id": "415552fced7d4cd39505c62b47435cb2",
       "version_major": 2,
       "version_minor": 0
      },
      "text/plain": [
       "[1/450]   0%|           [00:00<?]"
      ]
     },
     "metadata": {},
     "output_type": "display_data"
    },
    {
     "name": "stdout",
     "output_type": "stream",
     "text": [
      "\n",
      "Validation - Epoch: 65 | Avg accuracy: 0.8577 | Avg loss: 0.3245\n"
     ]
    },
    {
     "data": {
      "application/vnd.jupyter.widget-view+json": {
       "model_id": "a98adb1a7dd147c29a49017fbce51293",
       "version_major": 2,
       "version_minor": 0
      },
      "text/plain": [
       "[1/450]   0%|           [00:00<?]"
      ]
     },
     "metadata": {},
     "output_type": "display_data"
    },
    {
     "name": "stdout",
     "output_type": "stream",
     "text": [
      "\n",
      "Validation - Epoch: 66 | Avg accuracy: 0.8627 | Avg loss: 0.3125\n"
     ]
    },
    {
     "data": {
      "application/vnd.jupyter.widget-view+json": {
       "model_id": "a984a66d22e342b18b82c4edafb2094d",
       "version_major": 2,
       "version_minor": 0
      },
      "text/plain": [
       "[1/450]   0%|           [00:00<?]"
      ]
     },
     "metadata": {},
     "output_type": "display_data"
    },
    {
     "name": "stdout",
     "output_type": "stream",
     "text": [
      "\n",
      "Validation - Epoch: 67 | Avg accuracy: 0.8652 | Avg loss: 0.3138\n"
     ]
    },
    {
     "data": {
      "application/vnd.jupyter.widget-view+json": {
       "model_id": "4047efca6da84d93ae470fa1d8168c98",
       "version_major": 2,
       "version_minor": 0
      },
      "text/plain": [
       "[1/450]   0%|           [00:00<?]"
      ]
     },
     "metadata": {},
     "output_type": "display_data"
    },
    {
     "name": "stdout",
     "output_type": "stream",
     "text": [
      "\n",
      "Validation - Epoch: 68 | Avg accuracy: 0.8721 | Avg loss: 0.2985\n"
     ]
    },
    {
     "data": {
      "application/vnd.jupyter.widget-view+json": {
       "model_id": "5b340d7380ed4241a1ec39d42f35432d",
       "version_major": 2,
       "version_minor": 0
      },
      "text/plain": [
       "[1/450]   0%|           [00:00<?]"
      ]
     },
     "metadata": {},
     "output_type": "display_data"
    },
    {
     "name": "stdout",
     "output_type": "stream",
     "text": [
      "\n",
      "Validation - Epoch: 69 | Avg accuracy: 0.8527 | Avg loss: 0.3279\n"
     ]
    },
    {
     "data": {
      "application/vnd.jupyter.widget-view+json": {
       "model_id": "12ab0fb30b6c4ca2b8c8f95a3b57074b",
       "version_major": 2,
       "version_minor": 0
      },
      "text/plain": [
       "[1/450]   0%|           [00:00<?]"
      ]
     },
     "metadata": {},
     "output_type": "display_data"
    },
    {
     "name": "stdout",
     "output_type": "stream",
     "text": [
      "\n",
      "Validation - Epoch: 70 | Avg accuracy: 0.8699 | Avg loss: 0.3014\n"
     ]
    },
    {
     "data": {
      "application/vnd.jupyter.widget-view+json": {
       "model_id": "bc5508a90712441ab933a16fef8a2d05",
       "version_major": 2,
       "version_minor": 0
      },
      "text/plain": [
       "[1/450]   0%|           [00:00<?]"
      ]
     },
     "metadata": {},
     "output_type": "display_data"
    },
    {
     "name": "stdout",
     "output_type": "stream",
     "text": [
      "\n",
      "Validation - Epoch: 71 | Avg accuracy: 0.8610 | Avg loss: 0.3213\n"
     ]
    },
    {
     "data": {
      "application/vnd.jupyter.widget-view+json": {
       "model_id": "57b5a04345614ceabf851122846ec799",
       "version_major": 2,
       "version_minor": 0
      },
      "text/plain": [
       "[1/450]   0%|           [00:00<?]"
      ]
     },
     "metadata": {},
     "output_type": "display_data"
    },
    {
     "name": "stdout",
     "output_type": "stream",
     "text": [
      "\n",
      "Validation - Epoch: 72 | Avg accuracy: 0.8744 | Avg loss: 0.2974\n"
     ]
    },
    {
     "data": {
      "application/vnd.jupyter.widget-view+json": {
       "model_id": "efdfa2fa29154d23bed00f8de235989d",
       "version_major": 2,
       "version_minor": 0
      },
      "text/plain": [
       "[1/450]   0%|           [00:00<?]"
      ]
     },
     "metadata": {},
     "output_type": "display_data"
    },
    {
     "name": "stdout",
     "output_type": "stream",
     "text": [
      "\n",
      "Validation - Epoch: 73 | Avg accuracy: 0.8651 | Avg loss: 0.3050\n"
     ]
    },
    {
     "data": {
      "application/vnd.jupyter.widget-view+json": {
       "model_id": "9a4a68bd245b49d79d429582fe6ce880",
       "version_major": 2,
       "version_minor": 0
      },
      "text/plain": [
       "[1/450]   0%|           [00:00<?]"
      ]
     },
     "metadata": {},
     "output_type": "display_data"
    },
    {
     "name": "stderr",
     "output_type": "stream",
     "text": [
      "2025-03-06 14:45:06,295 ignite.handlers.early_stopping.EarlyStopping INFO: EarlyStopping: Stop training\n"
     ]
    },
    {
     "name": "stdout",
     "output_type": "stream",
     "text": [
      "\n",
      "Validation - Epoch: 74 | Avg accuracy: 0.8764 | Avg loss: 0.2958\n"
     ]
    },
    {
     "data": {
      "text/plain": [
       "State:\n",
       "\titeration: 33300\n",
       "\tepoch: 74\n",
       "\tepoch_length: 450\n",
       "\tmax_epochs: 100\n",
       "\toutput: 0.17700055241584778\n",
       "\tbatch: <class 'list'>\n",
       "\tmetrics: <class 'dict'>\n",
       "\tdataloader: <class 'torch.utils.data.dataloader.DataLoader'>\n",
       "\tseed: <class 'NoneType'>\n",
       "\ttimes: <class 'dict'>"
      ]
     },
     "execution_count": 6,
     "metadata": {},
     "output_type": "execute_result"
    }
   ],
   "source": [
    "\n",
    "# Run the training loop\n",
    "trainer.run(train_loader, max_epochs=100)"
   ]
  },
  {
   "cell_type": "code",
   "execution_count": 7,
   "metadata": {},
   "outputs": [
    {
     "name": "stderr",
     "output_type": "stream",
     "text": [
      "[*********************100%***********************]  1 of 1 completed\n",
      "[*********************100%***********************]  1 of 1 completed"
     ]
    },
    {
     "name": "stdout",
     "output_type": "stream",
     "text": [
      "Final dataset size: 106 samples\n"
     ]
    },
    {
     "name": "stderr",
     "output_type": "stream",
     "text": [
      "\n",
      "[*********************100%***********************]  1 of 1 completed"
     ]
    },
    {
     "name": "stdout",
     "output_type": "stream",
     "text": [
      "Final dataset size: 106 samples\n"
     ]
    },
    {
     "name": "stderr",
     "output_type": "stream",
     "text": [
      "\n",
      "[*********************100%***********************]  1 of 1 completed"
     ]
    },
    {
     "name": "stdout",
     "output_type": "stream",
     "text": [
      "Final dataset size: 106 samples\n"
     ]
    },
    {
     "name": "stderr",
     "output_type": "stream",
     "text": [
      "\n",
      "[*********************100%***********************]  1 of 1 completed"
     ]
    },
    {
     "name": "stdout",
     "output_type": "stream",
     "text": [
      "Final dataset size: 106 samples\n"
     ]
    },
    {
     "name": "stderr",
     "output_type": "stream",
     "text": [
      "\n",
      "[*********************100%***********************]  1 of 1 completed"
     ]
    },
    {
     "name": "stdout",
     "output_type": "stream",
     "text": [
      "Final dataset size: 106 samples\n"
     ]
    },
    {
     "name": "stderr",
     "output_type": "stream",
     "text": [
      "\n",
      "[*********************100%***********************]  1 of 1 completed"
     ]
    },
    {
     "name": "stdout",
     "output_type": "stream",
     "text": [
      "Final dataset size: 106 samples\n"
     ]
    },
    {
     "name": "stderr",
     "output_type": "stream",
     "text": [
      "\n",
      "[*********************100%***********************]  1 of 1 completed"
     ]
    },
    {
     "name": "stdout",
     "output_type": "stream",
     "text": [
      "Final dataset size: 106 samples\n"
     ]
    },
    {
     "name": "stderr",
     "output_type": "stream",
     "text": [
      "\n",
      "[*********************100%***********************]  1 of 1 completed"
     ]
    },
    {
     "name": "stdout",
     "output_type": "stream",
     "text": [
      "Final dataset size: 106 samples\n"
     ]
    },
    {
     "name": "stderr",
     "output_type": "stream",
     "text": [
      "\n",
      "[*********************100%***********************]  1 of 1 completed"
     ]
    },
    {
     "name": "stdout",
     "output_type": "stream",
     "text": [
      "Final dataset size: 106 samples\n"
     ]
    },
    {
     "name": "stderr",
     "output_type": "stream",
     "text": [
      "\n",
      "[*********************100%***********************]  1 of 1 completed"
     ]
    },
    {
     "name": "stdout",
     "output_type": "stream",
     "text": [
      "Final dataset size: 106 samples\n"
     ]
    },
    {
     "name": "stderr",
     "output_type": "stream",
     "text": [
      "\n"
     ]
    },
    {
     "name": "stdout",
     "output_type": "stream",
     "text": [
      "Final dataset size: 106 samples\n"
     ]
    },
    {
     "name": "stderr",
     "output_type": "stream",
     "text": [
      "[*********************100%***********************]  1 of 1 completed\n",
      "[*********************100%***********************]  1 of 1 completed"
     ]
    },
    {
     "name": "stdout",
     "output_type": "stream",
     "text": [
      "Final dataset size: 106 samples\n"
     ]
    },
    {
     "name": "stderr",
     "output_type": "stream",
     "text": [
      "\n",
      "[*********************100%***********************]  1 of 1 completed"
     ]
    },
    {
     "name": "stdout",
     "output_type": "stream",
     "text": [
      "Final dataset size: 106 samples\n"
     ]
    },
    {
     "name": "stderr",
     "output_type": "stream",
     "text": [
      "\n",
      "[*********************100%***********************]  1 of 1 completed"
     ]
    },
    {
     "name": "stdout",
     "output_type": "stream",
     "text": [
      "Final dataset size: 106 samples\n"
     ]
    },
    {
     "name": "stderr",
     "output_type": "stream",
     "text": [
      "\n",
      "[*********************100%***********************]  1 of 1 completed"
     ]
    },
    {
     "name": "stdout",
     "output_type": "stream",
     "text": [
      "Final dataset size: 106 samples\n"
     ]
    },
    {
     "name": "stderr",
     "output_type": "stream",
     "text": [
      "\n"
     ]
    },
    {
     "name": "stdout",
     "output_type": "stream",
     "text": [
      "Final dataset size: 106 samples\n"
     ]
    },
    {
     "name": "stderr",
     "output_type": "stream",
     "text": [
      "[*********************100%***********************]  1 of 1 completed\n"
     ]
    },
    {
     "name": "stdout",
     "output_type": "stream",
     "text": [
      "Final dataset size: 106 samples\n"
     ]
    },
    {
     "name": "stderr",
     "output_type": "stream",
     "text": [
      "[*********************100%***********************]  1 of 1 completed\n"
     ]
    },
    {
     "name": "stdout",
     "output_type": "stream",
     "text": [
      "Final dataset size: 106 samples\n"
     ]
    },
    {
     "name": "stderr",
     "output_type": "stream",
     "text": [
      "[*********************100%***********************]  1 of 1 completed\n"
     ]
    },
    {
     "name": "stdout",
     "output_type": "stream",
     "text": [
      "Final dataset size: 106 samples\n"
     ]
    },
    {
     "name": "stderr",
     "output_type": "stream",
     "text": [
      "[*********************100%***********************]  1 of 1 completed\n"
     ]
    },
    {
     "name": "stdout",
     "output_type": "stream",
     "text": [
      "Final dataset size: 106 samples\n"
     ]
    },
    {
     "name": "stderr",
     "output_type": "stream",
     "text": [
      "[*********************100%***********************]  1 of 1 completed\n"
     ]
    },
    {
     "name": "stdout",
     "output_type": "stream",
     "text": [
      "Final dataset size: 106 samples\n"
     ]
    },
    {
     "name": "stderr",
     "output_type": "stream",
     "text": [
      "[*********************100%***********************]  1 of 1 completed\n"
     ]
    },
    {
     "name": "stdout",
     "output_type": "stream",
     "text": [
      "Final dataset size: 106 samples\n"
     ]
    },
    {
     "name": "stderr",
     "output_type": "stream",
     "text": [
      "[*********************100%***********************]  1 of 1 completed\n"
     ]
    },
    {
     "name": "stdout",
     "output_type": "stream",
     "text": [
      "Final dataset size: 106 samples\n"
     ]
    },
    {
     "name": "stderr",
     "output_type": "stream",
     "text": [
      "[*********************100%***********************]  1 of 1 completed\n"
     ]
    },
    {
     "name": "stdout",
     "output_type": "stream",
     "text": [
      "Final dataset size: 106 samples\n"
     ]
    },
    {
     "name": "stderr",
     "output_type": "stream",
     "text": [
      "[*********************100%***********************]  1 of 1 completed\n"
     ]
    },
    {
     "name": "stdout",
     "output_type": "stream",
     "text": [
      "Final dataset size: 106 samples\n"
     ]
    },
    {
     "name": "stderr",
     "output_type": "stream",
     "text": [
      "[*********************100%***********************]  1 of 1 completed\n"
     ]
    },
    {
     "name": "stdout",
     "output_type": "stream",
     "text": [
      "Final dataset size: 106 samples\n"
     ]
    },
    {
     "name": "stderr",
     "output_type": "stream",
     "text": [
      "[*********************100%***********************]  1 of 1 completed\n"
     ]
    },
    {
     "name": "stdout",
     "output_type": "stream",
     "text": [
      "Final dataset size: 106 samples\n"
     ]
    },
    {
     "name": "stderr",
     "output_type": "stream",
     "text": [
      "[*********************100%***********************]  1 of 1 completed\n"
     ]
    },
    {
     "name": "stdout",
     "output_type": "stream",
     "text": [
      "Final dataset size: 106 samples\n"
     ]
    },
    {
     "name": "stderr",
     "output_type": "stream",
     "text": [
      "[*********************100%***********************]  1 of 1 completed\n"
     ]
    },
    {
     "name": "stdout",
     "output_type": "stream",
     "text": [
      "Final dataset size: 106 samples\n"
     ]
    },
    {
     "name": "stderr",
     "output_type": "stream",
     "text": [
      "[*********************100%***********************]  1 of 1 completed\n"
     ]
    },
    {
     "name": "stdout",
     "output_type": "stream",
     "text": [
      "Final dataset size: 106 samples\n"
     ]
    },
    {
     "name": "stderr",
     "output_type": "stream",
     "text": [
      "[*********************100%***********************]  1 of 1 completed\n"
     ]
    },
    {
     "name": "stdout",
     "output_type": "stream",
     "text": [
      "Final dataset size: 106 samples\n"
     ]
    },
    {
     "name": "stderr",
     "output_type": "stream",
     "text": [
      "[*********************100%***********************]  1 of 1 completed\n",
      "[*********************100%***********************]  1 of 1 completed"
     ]
    },
    {
     "name": "stdout",
     "output_type": "stream",
     "text": [
      "Final dataset size: 106 samples\n"
     ]
    },
    {
     "name": "stderr",
     "output_type": "stream",
     "text": [
      "\n"
     ]
    },
    {
     "name": "stdout",
     "output_type": "stream",
     "text": [
      "Final dataset size: 106 samples\n"
     ]
    }
   ],
   "source": [
    "\n",
    "X_test=[]\n",
    "y_test=[]\n",
    "for stock in tickers:\n",
    "    data = yf.download(stock, start=\"2020-01-01\", end=\"2025-01-01\")[[\"Close\", \"Volume\"]].dropna()\n",
    "    features,labels=extract_features_and_labels(stock, data, strategy=\"momentum\",feature_window_length=100)\n",
    "    X_test.append(features)\n",
    "    y_test.append(labels)\n",
    "\n",
    "X_test=np.concatenate(X_test)\n",
    "y_test=np.concatenate(y_test)\n",
    "test_dataset = TradingDataset(X_test, y_test)\n",
    "test_loader = DataLoader(test_dataset, batch_size=32, shuffle=True)"
   ]
  },
  {
   "cell_type": "code",
   "execution_count": 8,
   "metadata": {},
   "outputs": [
    {
     "name": "stdout",
     "output_type": "stream",
     "text": [
      "\n",
      "Classification Report (Per-Class):\n",
      "              precision    recall  f1-score   support\n",
      "\n",
      "           0       0.73      0.95      0.83      1601\n",
      "           1       0.95      0.70      0.81      1897\n",
      "\n",
      "    accuracy                           0.82      3498\n",
      "   macro avg       0.84      0.83      0.82      3498\n",
      "weighted avg       0.85      0.82      0.82      3498\n",
      "\n"
     ]
    }
   ],
   "source": [
    "logits = []\n",
    "labels_list = []\n",
    "\n",
    "def evaluate_step(engine, batch):\n",
    "    model.eval()\n",
    "    with torch.no_grad():\n",
    "        images, label = batch\n",
    "        images = images.to(device)\n",
    "        label = label.to(device)\n",
    "        outputs = model(images)\n",
    "        logits.append(outputs.cpu().numpy())\n",
    "        labels_list.append(label.cpu().numpy())\n",
    "    return outputs, label\n",
    "\n",
    "evaluator = Engine(evaluate_step)\n",
    "evaluator.run(test_loader)\n",
    "\n",
    "# Concatenate results from test evaluation\n",
    "logits_array = np.concatenate(logits, axis=0)\n",
    "labels_array = np.concatenate(labels_list, axis=0)\n",
    "\n",
    "# Convert logits to probabilities using sigmoid\n",
    "probs = torch.sigmoid(torch.tensor(logits_array)).numpy()\n",
    "preds = (probs > 0.5).astype(int)\n",
    "y_true = labels_array.astype(int)\n",
    "y_pred = preds.astype(int)\n",
    "\n",
    "# Print classification report\n",
    "print(\"\\nClassification Report (Per-Class):\")\n",
    "print(classification_report(y_true, y_pred))"
   ]
  },
  {
   "cell_type": "code",
   "execution_count": null,
   "metadata": {},
   "outputs": [],
   "source": []
  },
  {
   "cell_type": "code",
   "execution_count": null,
   "metadata": {},
   "outputs": [],
   "source": []
  }
 ],
 "metadata": {
  "kernelspec": {
   "display_name": "base",
   "language": "python",
   "name": "python3"
  },
  "language_info": {
   "codemirror_mode": {
    "name": "ipython",
    "version": 3
   },
   "file_extension": ".py",
   "mimetype": "text/x-python",
   "name": "python",
   "nbconvert_exporter": "python",
   "pygments_lexer": "ipython3",
   "version": "3.12.7"
  }
 },
 "nbformat": 4,
 "nbformat_minor": 2
}
