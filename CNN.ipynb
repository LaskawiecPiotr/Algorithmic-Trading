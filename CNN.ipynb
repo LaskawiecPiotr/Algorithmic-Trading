{
 "cells": [
  {
   "cell_type": "code",
   "execution_count": 70,
   "metadata": {},
   "outputs": [],
   "source": [
    "import pandas as pd\n",
    "import numpy as np\n",
    "from signal_generator import signal_generation\n",
    "from trade_simulator import Trade_Simulator\n",
    "from sklearn.preprocessing import StandardScaler\n",
    "\n",
    "def window_size_past(strategy):\n",
    "    \"\"\"Returns extra lookback days required for each strategy\"\"\"\n",
    "    if strategy in [\"momentum\",\"mean_reversion\"]:\n",
    "        return 100  # Needs long-term MA\n",
    "    elif strategy in [\"macd\"]:\n",
    "        return  60 # Needs medium-term indicators\n",
    "    elif strategy in [\"breakout\", \"rsi\", \"vwap\"]:\n",
    "        return 30  # Needs short-term indicators\n",
    "    else:\n",
    "        return 60 # Default fallback\n",
    "\n",
    "def extract_features_labels(stock, data, strategy,feature_window_len=30, delay=2):\n",
    "    \"\"\"\n",
    "    Extracts features from `window_size` days and labels from the next `window_size` days.\n",
    "    \n",
    "    Parameters:\n",
    "    - stock: str, stock ticker symbol\n",
    "    - data: pd.DataFrame, stock data (should include 'Close' and Volume)\n",
    "    - strategy: str, trading strategy to evaluate\n",
    "    - delay: int, cooldown period for trading signals in Trade_Simulator\n",
    "    \n",
    "    Returns:\n",
    "    - X: np.array, extracted feature set (num_samples x num_features x num_days)\n",
    "    - y: np.array, binary labels (1 = profitable, 0 = not profitable)\n",
    "    \"\"\"\n",
    "    history_window = window_size_past(strategy)\n",
    "    window_size=feature_window_len\n",
    "    label_days = history_window  # Number of days used for labeling\n",
    "\n",
    "    X, y = [], []\n",
    "\n",
    "    for start in range(0,len(data) - 2 *history_window ,label_days):\n",
    "\n",
    "        # 🔹 Compute signals & indicators using full feature window\n",
    "        long_signal, short_signal, features = signal_generation(stock, data.iloc[start:start+history_window +window_size], strategy)\n",
    "        features = np.array(features)[:,-window_size:]\n",
    "        # 🔹 Normalize price and indicators\n",
    "        price_scaler = StandardScaler()\n",
    "        normalized_price = price_scaler.fit_transform(data.iloc[start+history_window :start+history_window +window_size][\"Close\"].values.reshape(-1, 1)).flatten()\n",
    "\n",
    "        feature_scaler = StandardScaler()\n",
    "        normalized_features = feature_scaler.fit_transform(features.T).T  \n",
    "        all_features = np.vstack([normalized_price, normalized_features]) \n",
    "        # 🔹 Simulate trading on the **label window**, but **start after `feature_days`**\n",
    "        trade_log = Trade_Simulator(stock, data.iloc[start:start+history_window +window_size], strategy, stop_loss=False, delay=delay, log=True, \n",
    "                                    plot=False, start_trade=history_window)\n",
    "\n",
    "        if trade_log is None or trade_log.empty:\n",
    "            X.append(all_features)\n",
    "            y.append(0)\n",
    "            continue  # Skip if no trades\n",
    "\n",
    "        # 🔹 Determine if profitable\n",
    "        final_capital = trade_log.iloc[-1][\"Final Capital\"]\n",
    "        profit = 1 if final_capital > 10000 else 0  \n",
    "\n",
    "        X.append(all_features)\n",
    "        y.append(profit)\n",
    "\n",
    "    print(f\"Final dataset size: {len(X)} samples\")\n",
    "    return np.array(X), np.array(y)\n",
    "\n",
    "\n"
   ]
  },
  {
   "cell_type": "code",
   "execution_count": 77,
   "metadata": {},
   "outputs": [
    {
     "name": "stderr",
     "output_type": "stream",
     "text": [
      "[*********************100%***********************]  1 of 1 completed\n"
     ]
    },
    {
     "name": "stdout",
     "output_type": "stream",
     "text": [
      "Final dataset size: 166 samples\n",
      "Feature Shape: (166, 2, 30)\n",
      "Label Shape: (166,)\n"
     ]
    }
   ],
   "source": [
    "import yfinance as yf\n",
    "# Load Apple Stock Data (Ensure Close & Volume columns)\n",
    "data = yf.download(\"TGT\", start=\"2000-01-01\", end=\"2020-01-01\")[[\"Close\", \"Volume\"]].dropna()\n",
    "\n",
    "# Extract features and labels for Momentum strategy\n",
    "X, y = extract_features_labels(\"TGT\", data, strategy=\"rsi\")\n",
    "\n",
    "# Check Output Shapes\n",
    "print(\"Feature Shape:\", X.shape)  # Expected: (num_samples, num_features, num_days)\n",
    "print(\"Label Shape:\", y.shape)  # Expected: (num_samples,)\n"
   ]
  },
  {
   "cell_type": "code",
   "execution_count": null,
   "metadata": {},
   "outputs": [],
   "source": []
  }
 ],
 "metadata": {
  "kernelspec": {
   "display_name": "Python 3",
   "language": "python",
   "name": "python3"
  },
  "language_info": {
   "codemirror_mode": {
    "name": "ipython",
    "version": 3
   },
   "file_extension": ".py",
   "mimetype": "text/x-python",
   "name": "python",
   "nbconvert_exporter": "python",
   "pygments_lexer": "ipython3",
   "version": "3.11.8"
  }
 },
 "nbformat": 4,
 "nbformat_minor": 2
}
