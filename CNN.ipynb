{
 "cells": [
  {
   "cell_type": "code",
   "execution_count": 81,
   "metadata": {},
   "outputs": [],
   "source": [
    "import pandas as pd\n",
    "import numpy as np\n",
    "from signal_generator import signal_generation\n",
    "from trade_simulator import Trade_Simulator\n",
    "from sklearn.preprocessing import StandardScaler\n",
    "\n",
    "def get_lookback(strategy):\n",
    "    \"\"\"Returns extra lookback days required for each strategy\"\"\"\n",
    "    if strategy == \"momentum\":\n",
    "        return 180  # Needs long-term MA\n",
    "    elif strategy in [\"mean_reversion\", \"macd\"]:\n",
    "        return 90  # Needs medium-term indicators\n",
    "    elif strategy in [\"breakout\", \"rsi\", \"vwap\"]:\n",
    "        return 60  # Needs short-term indicators\n",
    "    else:\n",
    "        return 60  # Default fallback\n",
    "\n",
    "def extract_features_labels(stock, data, strategy, delay=2):\n",
    "    \"\"\"\n",
    "    Extracts features from `window_size` days and labels from the next `window_size` days.\n",
    "    \n",
    "    Parameters:\n",
    "    - stock: str, stock ticker symbol\n",
    "    - data: pd.DataFrame, stock data (should include 'Close' and Volume)\n",
    "    - strategy: str, trading strategy to evaluate\n",
    "    - delay: int, cooldown period for trading signals in Trade_Simulator\n",
    "    \n",
    "    Returns:\n",
    "    - X: np.array, extracted feature set (num_samples x num_features x num_days)\n",
    "    - y: np.array, binary labels (1 = profitable, 0 = not profitable)\n",
    "    \"\"\"\n",
    "    window_size = get_lookback(strategy)\n",
    "    label_days = window_size  # Number of days used for labeling\n",
    "\n",
    "    X, y = [], []\n",
    "\n",
    "    for start in range(0,len(data) - 2 * window_size,label_days):\n",
    "        print(start)\n",
    "        end = start + window_size + label_days  # Extra past data for indicators\n",
    "        \n",
    "        # 🔹 Extract the full feature window with extra history\n",
    "        feature_window = data.iloc[end-label_days-80:end-label_days].copy()\n",
    "        full_window = data.iloc[start:end].copy()\n",
    "        # # 🔹 Extract the label window (trades happen here)\n",
    "        # label_window = data.iloc[start + feature_days : start + feature_days + window_size].copy()\n",
    "\n",
    "        # 🔹 Compute signals & indicators using full feature window\n",
    "        long_signal, short_signal, features = signal_generation(stock, data.iloc[start:end-label_days].copy(), strategy)\n",
    "        features = np.array(features)[:,-80:]\n",
    "        # 🔹 Normalize price and indicators\n",
    "        price_scaler = StandardScaler()\n",
    "        normalized_price = price_scaler.fit_transform(feature_window[\"Close\"].values.reshape(-1, 1)).flatten()\n",
    "\n",
    "        feature_scaler = StandardScaler()\n",
    "        normalized_features = feature_scaler.fit_transform(features.T).T  \n",
    "\n",
    "        # 🔹 Combine all features\n",
    "        all_features = np.vstack([normalized_price, normalized_features]) \n",
    "        all_features = all_features.T  \n",
    "        # 🔹 Simulate trading on the **label window**, but **start after `feature_days`**\n",
    "        trade_log = Trade_Simulator(stock, full_window, strategy, stop_loss=False, delay=delay, log=True, \n",
    "                                    plot=False, start_trade=end-label_days-start)\n",
    "\n",
    "        if trade_log is None or trade_log.empty:\n",
    "            print(\"No Trades\")\n",
    "            continue  # Skip if no trades\n",
    "\n",
    "        # 🔹 Determine if profitable\n",
    "        final_capital = trade_log.iloc[-1][\"Final Capital\"]\n",
    "        profit = 1 if final_capital > 10000 else 0  \n",
    "\n",
    "        X.append(all_features)\n",
    "        y.append(profit)\n",
    "\n",
    "    print(f\"Final dataset size: {len(X)} samples\")\n",
    "    return np.array(X), np.array(y)\n",
    "\n",
    "\n"
   ]
  },
  {
   "cell_type": "code",
   "execution_count": 83,
   "metadata": {},
   "outputs": [
    {
     "name": "stderr",
     "output_type": "stream",
     "text": [
      "[*********************100%***********************]  1 of 1 completed"
     ]
    },
    {
     "name": "stdout",
     "output_type": "stream",
     "text": [
      "0\n",
      "180\n",
      "360\n",
      "540\n",
      "720\n",
      "900\n",
      "1080\n",
      "1260\n",
      "1440\n",
      "1620\n",
      "1800\n",
      "1980\n",
      "Final dataset size: 12 samples\n",
      "Feature Shape: (12, 80, 3)\n",
      "Label Shape: (12,)\n"
     ]
    },
    {
     "name": "stderr",
     "output_type": "stream",
     "text": [
      "\n"
     ]
    }
   ],
   "source": [
    "import yfinance as yf\n",
    "# Load Apple Stock Data (Ensure Close & Volume columns)\n",
    "data = yf.download(\"AAPL\", start=\"2010-01-01\", end=\"2020-01-01\")[[\"Close\", \"Volume\"]].dropna()\n",
    "\n",
    "# Extract features and labels for Momentum strategy\n",
    "X, y = extract_features_labels(\"AAPL\", data, strategy=\"momentum\")\n",
    "\n",
    "# Check Output Shapes\n",
    "print(\"Feature Shape:\", X.shape)  # Expected: (num_samples, num_features, num_days)\n",
    "print(\"Label Shape:\", y.shape)  # Expected: (num_samples,)\n"
   ]
  },
  {
   "cell_type": "code",
   "execution_count": 84,
   "metadata": {},
   "outputs": [
    {
     "data": {
      "text/plain": [
       "array([[[-0.43323935, -3.16063657, -1.95767503],\n",
       "        [-0.05025342, -2.9215825 , -1.9131271 ],\n",
       "        [ 0.37829034, -2.63543005, -1.86086461],\n",
       "        ...,\n",
       "        [ 2.0859758 ,  0.05891435,  1.088987  ],\n",
       "        [ 1.9557919 ,  0.18708213,  1.10295936],\n",
       "        [ 2.8085473 ,  0.36219963,  1.12563151]],\n",
       "\n",
       "       [[ 1.47966744, -3.03454208, -2.24292601],\n",
       "        [ 1.75786111, -2.79004548, -2.14623186],\n",
       "        [ 1.84383057, -2.53702717, -2.05014658],\n",
       "        ...,\n",
       "        [-0.12151363, -0.43593716,  1.23434815],\n",
       "        [-0.76627318, -0.47723288,  1.22947487],\n",
       "        [-1.48268782, -0.5934334 ,  1.2127161 ]],\n",
       "\n",
       "       [[-0.34799245, -0.65909992, -1.75189738],\n",
       "        [-0.35213066, -0.57818595, -1.67333718],\n",
       "        [-0.55349377, -0.51167896, -1.59764962],\n",
       "        ...,\n",
       "        [ 2.32794224,  2.83412361,  2.18714545],\n",
       "        [ 2.28387957,  3.03724669,  2.31151938],\n",
       "        [ 2.36544381,  3.24101699,  2.44638694]],\n",
       "\n",
       "       ...,\n",
       "\n",
       "       [[-0.88307282, -0.81929323, -1.69956951],\n",
       "        [-0.87212188, -0.80246427, -1.6557873 ],\n",
       "        [-1.00316439, -0.78794533, -1.61590328],\n",
       "        ...,\n",
       "        [ 2.00226641,  2.64896269,  1.84752917],\n",
       "        [ 2.01663849,  2.79683329,  1.92133828],\n",
       "        [ 2.04650518,  2.93471031,  1.99752582]],\n",
       "\n",
       "       [[-1.483115  , -1.37475624, -1.91603864],\n",
       "        [-1.19243449, -1.38393425, -1.87350449],\n",
       "        [-1.0886036 , -1.40051373, -1.82609172],\n",
       "        ...,\n",
       "        [ 2.77532812,  1.35070559,  1.54139088],\n",
       "        [ 2.71759901,  1.41277587,  1.64565919],\n",
       "        [ 2.62426694,  1.46874266,  1.74515575]],\n",
       "\n",
       "       [[-1.36419397, -1.3741832 , -1.13609914],\n",
       "        [-1.45521881, -1.35830503, -1.13127546],\n",
       "        [-1.26416622, -1.33416505, -1.11583936],\n",
       "        ...,\n",
       "        [ 0.59041259,  1.56360013,  1.78000804],\n",
       "        [ 0.63327773,  1.57588958,  1.81783892],\n",
       "        [ 1.8979539 ,  1.61871715,  1.87773167]]])"
      ]
     },
     "execution_count": 84,
     "metadata": {},
     "output_type": "execute_result"
    }
   ],
   "source": [
    "X"
   ]
  },
  {
   "cell_type": "code",
   "execution_count": 85,
   "metadata": {},
   "outputs": [
    {
     "data": {
      "text/plain": [
       "array([1, 1, 0, 1, 1, 1, 1, 0, 1, 1, 1, 0])"
      ]
     },
     "execution_count": 85,
     "metadata": {},
     "output_type": "execute_result"
    }
   ],
   "source": [
    "y"
   ]
  },
  {
   "cell_type": "code",
   "execution_count": null,
   "metadata": {},
   "outputs": [],
   "source": []
  }
 ],
 "metadata": {
  "kernelspec": {
   "display_name": "base",
   "language": "python",
   "name": "python3"
  },
  "language_info": {
   "codemirror_mode": {
    "name": "ipython",
    "version": 3
   },
   "file_extension": ".py",
   "mimetype": "text/x-python",
   "name": "python",
   "nbconvert_exporter": "python",
   "pygments_lexer": "ipython3",
   "version": "3.12.7"
  }
 },
 "nbformat": 4,
 "nbformat_minor": 2
}
