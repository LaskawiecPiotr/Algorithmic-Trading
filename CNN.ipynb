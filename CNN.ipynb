{
 "cells": [
  {
   "cell_type": "code",
   "execution_count": 1,
   "metadata": {},
   "outputs": [],
   "source": [
    "from features_labels_extract import extract_features_and_labels"
   ]
  },
  {
   "cell_type": "code",
   "execution_count": 12,
   "metadata": {},
   "outputs": [
    {
     "name": "stderr",
     "output_type": "stream",
     "text": [
      "[*********************100%***********************]  1 of 1 completed\n"
     ]
    },
    {
     "name": "stdout",
     "output_type": "stream",
     "text": [
      "Final dataset size: 197 samples\n",
      "Feature Shape: (197, 3, 30)\n",
      "Label Shape: (197,)\n"
     ]
    }
   ],
   "source": [
    "import yfinance as yf\n",
    "# Load Apple Stock Data (Ensure Close & Volume columns)\n",
    "data = yf.download(\"TGT\", start=\"2000-01-01\", end=\"2024-01-01\")[[\"Close\", \"Volume\"]].dropna()\n",
    "\n",
    "# Extract features and labels for Momentum strategy\n",
    "X, y = extract_features_and_labels(\"TGT\", data, strategy=\"momentum\")\n",
    "\n",
    "# Check Output Shapes\n",
    "print(\"Feature Shape:\", X.shape)  # Expected: (num_samples, num_features, num_days)\n",
    "print(\"Label Shape:\", y.shape)  # Expected: (num_samples,)\n"
   ]
  }
 ],
 "metadata": {
  "kernelspec": {
   "display_name": "base",
   "language": "python",
   "name": "python3"
  },
  "language_info": {
   "codemirror_mode": {
    "name": "ipython",
    "version": 3
   },
   "file_extension": ".py",
   "mimetype": "text/x-python",
   "name": "python",
   "nbconvert_exporter": "python",
   "pygments_lexer": "ipython3",
   "version": "3.12.7"
  }
 },
 "nbformat": 4,
 "nbformat_minor": 2
}
