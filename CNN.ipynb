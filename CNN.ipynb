{
 "cells": [
  {
   "cell_type": "code",
   "execution_count": 16,
   "metadata": {},
   "outputs": [],
   "source": [
    "from features_labels_extract import extract_features_and_labels\n",
    "import torch\n",
    "from torch.utils.data import Dataset\n",
    "import numpy as np\n",
    "from sklearn.metrics import (accuracy_score, classification_report, confusion_matrix, \n",
    "                             hamming_loss, ConfusionMatrixDisplay, \n",
    "                             precision_score, recall_score, f1_score, roc_curve, auc)"
   ]
  },
  {
   "cell_type": "code",
   "execution_count": 25,
   "metadata": {},
   "outputs": [
    {
     "name": "stderr",
     "output_type": "stream",
     "text": [
      "[*********************100%***********************]  1 of 1 completed\n"
     ]
    },
    {
     "name": "stdout",
     "output_type": "stream",
     "text": [
      "Final dataset size: 591 samples\n",
      "Feature Shape: (591, 3, 30)\n",
      "Label Shape: (591,)\n"
     ]
    }
   ],
   "source": [
    "import yfinance as yf\n",
    "# Load Apple Stock Data (Ensure Close & Volume columns)\n",
    "data = yf.download(\"TGT\", start=\"2000-01-01\", end=\"2024-01-01\")[[\"Close\", \"Volume\"]].dropna()\n",
    "\n",
    "# Extract features and labels for Momentum strategy\n",
    "X, y = extract_features_and_labels(\"TGT\", data, strategy=\"momentum\")\n",
    "\n",
    "# Check Output Shapes\n",
    "print(\"Feature Shape:\", X.shape)  # Expected: (num_samples, num_features, num_days)\n",
    "print(\"Label Shape:\", y.shape)  # Expected: (num_samples,)\n"
   ]
  },
  {
   "cell_type": "code",
   "execution_count": 28,
   "metadata": {},
   "outputs": [
    {
     "data": {
      "text/plain": [
       "(array([0, 1]), array([427, 164], dtype=int64))"
      ]
     },
     "execution_count": 28,
     "metadata": {},
     "output_type": "execute_result"
    }
   ],
   "source": [
    "np.unique(y,return_counts=True)"
   ]
  },
  {
   "cell_type": "code",
   "execution_count": null,
   "metadata": {},
   "outputs": [],
   "source": [
    "class TradingDataset(Dataset):\n",
    "    def __init__(self, features, labels):\n",
    "        self.features = torch.tensor(features, dtype=torch.float32)\n",
    "        self.labels = torch.tensor(labels, dtype=torch.float32).view(-1, 1)\n",
    "\n",
    "    def __len__(self):\n",
    "        return len(self.features)\n",
    "\n",
    "    def __getitem__(self, idx):\n",
    "        return self.features[idx], self.labels[idx]"
   ]
  },
  {
   "cell_type": "code",
   "execution_count": null,
   "metadata": {},
   "outputs": [],
   "source": [
    "import torch.nn as nn\n",
    "import torch.nn.functional as F\n",
    "\n",
    "class CNNBlock(nn.Module):\n",
    "    def __init__(self, in_channels, out_channels, kernel_size=3):\n",
    "        super(CNNBlock, self).__init__()\n",
    "        self.conv = nn.Conv1d(in_channels, out_channels, kernel_size=kernel_size, padding='same')\n",
    "        self.bn = nn.BatchNorm1d(out_channels)\n",
    "        self.pool = nn.MaxPool1d(kernel_size=2, stride=2)\n",
    "        self.dropout = nn.Dropout(0.5)\n",
    "\n",
    "    def forward(self, x):\n",
    "        x = F.relu(self.bn(self.conv(x)))  # Conv -> BN -> ReLU\n",
    "        x = self.pool(x)  # Max pooling\n",
    "        x = self.dropout(x)  # Dropout\n",
    "        return x\n",
    "\n",
    "class TradingCNN(nn.Module):\n",
    "    def __init__(self, input_channels, input_length):\n",
    "        super(TradingCNN, self).__init__()\n",
    "\n",
    "        # Feature Extraction: 3 CNN layers\n",
    "        self.conv_layers = nn.Sequential(\n",
    "            CNNBlock(input_channels, 64),\n",
    "            CNNBlock(64, 128),\n",
    "            CNNBlock(128, 256)\n",
    "        )\n",
    "\n",
    "        # Fully Connected Layers\n",
    "        self.fc_layers = nn.Sequential(\n",
    "            nn.Flatten(),\n",
    "            nn.Linear(256 * (input_length // 8), 512),\n",
    "            nn.BatchNorm1d(512),\n",
    "            nn.ReLU(),\n",
    "            nn.Dropout(0.5),\n",
    "            nn.Linear(512, 1)  # Output: Binary classification\n",
    "        )\n",
    "\n",
    "    def forward(self, x):\n",
    "        x = self.conv_layers(x)\n",
    "        x = self.fc_layers(x)\n",
    "        return x"
   ]
  },
  {
   "cell_type": "code",
   "execution_count": null,
   "metadata": {},
   "outputs": [],
   "source": [
    "import torch.optim as optim\n",
    "from torch.utils.data import DataLoader\n",
    "from ignite.engine import Engine, Events, create_supervised_trainer, create_supervised_evaluator\n",
    "from ignite.metrics import Accuracy, Loss, Precision, Recall\n",
    "from ignite.handlers import EarlyStopping, ModelCheckpoint, TerminateOnNan\n",
    "from ignite.contrib.handlers import ProgressBar\n",
    "\n",
    "# Load your data\n",
    "X, y = extract_features_and_labels(\"TGT\", data, strategy=\"momentum\")\n",
    "\n",
    "# Create datasets and dataloaders\n",
    "train_dataset = TradingDataset(X, y)\n",
    "train_loader = DataLoader(train_dataset, batch_size=32, shuffle=True)\n",
    "\n",
    "# Define device\n",
    "device = torch.device(\"cuda\" if torch.cuda.is_available() else \"cpu\")\n",
    "\n",
    "# Instantiate the model\n",
    "input_channels = X.shape[1]\n",
    "input_length = X.shape[2]\n",
    "model = TradingCNN(input_channels, input_length).to(device)\n",
    "\n",
    "# Define loss function and optimizer\n",
    "criterion = nn.BCEWithLogitsLoss().to(device)\n",
    "optimizer = optim.Adam(model.parameters(), lr=0.001)\n",
    "\n",
    "# Create the trainer and evaluators\n",
    "trainer = create_supervised_trainer(model, optimizer, criterion, device=device)\n",
    "def thresholded_output_transform(output):\n",
    "    y_pred, y = output\n",
    "    y_pred = torch.round(torch.sigmoid(y_pred))  # Apply sigmoid and round to get binary output\n",
    "    return y_pred, y\n",
    "val_metrics = {\n",
    "    \"accuracy\": Accuracy(output_transform=thresholded_output_transform),\n",
    "    \"precision\": Precision(output_transform=thresholded_output_transform),\n",
    "    \"recall\": Recall(output_transform=thresholded_output_transform),\n",
    "    \"loss\": Loss(criterion)\n",
    "}\n",
    "train_evaluator = create_supervised_evaluator(model, metrics=val_metrics, device=device)\n",
    "val_evaluator = create_supervised_evaluator(model, metrics=val_metrics, device=device)\n",
    "\n",
    "# Attach progress bar to the trainer\n",
    "pbar = ProgressBar(persist=True)\n",
    "pbar.attach(trainer, output_transform=lambda x: {\"loss\": x})\n",
    "\n",
    "# Validation after each epoch\n",
    "@trainer.on(Events.EPOCH_COMPLETED)\n",
    "def run_validation(engine):\n",
    "    val_evaluator.run(train_loader)\n",
    "    metrics = val_evaluator.state.metrics\n",
    "    avg_accuracy = metrics['accuracy']\n",
    "    avg_loss = metrics['loss']\n",
    "    print(f\"\\nValidation - Epoch: {engine.state.epoch} | Avg accuracy: {avg_accuracy:.4f} | Avg loss: {avg_loss:.4f}\")\n",
    "\n",
    "# Early stopping and model checkpointing\n",
    "early_stopping = EarlyStopping(patience=10, score_function=lambda engine: -engine.state.metrics[\"loss\"], trainer=trainer)\n",
    "val_evaluator.add_event_handler(Events.COMPLETED, early_stopping)\n",
    "trainer.add_event_handler(Events.ITERATION_COMPLETED, TerminateOnNan())\n",
    "\n",
    "checkpoint_handler = ModelCheckpoint(dirname='checkpoints', filename_prefix='trading_cnn', n_saved=1, create_dir=True, require_empty=False, score_function=lambda e: -e.state.metrics[\"loss\"], score_name=\"val_loss\", global_step_transform=lambda e, _: e.state.epoch)\n",
    "val_evaluator.add_event_handler(Events.COMPLETED, checkpoint_handler, {'best_model': model})\n"
   ]
  },
  {
   "cell_type": "code",
   "execution_count": null,
   "metadata": {},
   "outputs": [],
   "source": [
    "\n",
    "# Run the training loop\n",
    "trainer.run(train_loader, max_epochs=100)"
   ]
  },
  {
   "cell_type": "code",
   "execution_count": 22,
   "metadata": {},
   "outputs": [
    {
     "name": "stderr",
     "output_type": "stream",
     "text": [
      "[*********************100%***********************]  1 of 1 completed\n"
     ]
    },
    {
     "name": "stdout",
     "output_type": "stream",
     "text": [
      "Final dataset size: 240 samples\n"
     ]
    }
   ],
   "source": [
    "data = yf.download(\"TGT\", start=\"1990-01-01\", end=\"2000-01-01\")[[\"Close\", \"Volume\"]].dropna()\n",
    "\n",
    "# Extract features and labels for Momentum strategy\n",
    "X, y = extract_features_and_labels(\"TGT\", data, strategy=\"momentum\")\n",
    "test_dataset = TradingDataset(X, y)\n",
    "test_loader = DataLoader(test_dataset, batch_size=32, shuffle=True)"
   ]
  },
  {
   "cell_type": "code",
   "execution_count": 23,
   "metadata": {},
   "outputs": [
    {
     "name": "stdout",
     "output_type": "stream",
     "text": [
      "\n",
      "Classification Report (Per-Class):\n",
      "              precision    recall  f1-score   support\n",
      "\n",
      "           0       1.00      0.50      0.66       233\n",
      "           1       0.06      1.00      0.11         7\n",
      "\n",
      "    accuracy                           0.51       240\n",
      "   macro avg       0.53      0.75      0.39       240\n",
      "weighted avg       0.97      0.51      0.65       240\n",
      "\n"
     ]
    }
   ],
   "source": [
    "logits = []\n",
    "labels_list = []\n",
    "\n",
    "def evaluate_step(engine, batch):\n",
    "    model.eval()\n",
    "    with torch.no_grad():\n",
    "        images, label = batch\n",
    "        images = images.to(device)\n",
    "        label = label.to(device)\n",
    "        outputs = model(images)\n",
    "        logits.append(outputs.cpu().numpy())\n",
    "        labels_list.append(label.cpu().numpy())\n",
    "    return outputs, label\n",
    "\n",
    "evaluator = Engine(evaluate_step)\n",
    "evaluator.run(test_loader)\n",
    "\n",
    "# Concatenate results from test evaluation\n",
    "logits_array = np.concatenate(logits, axis=0)\n",
    "labels_array = np.concatenate(labels_list, axis=0)\n",
    "\n",
    "# Convert logits to probabilities using sigmoid\n",
    "probs = torch.sigmoid(torch.tensor(logits_array)).numpy()\n",
    "preds = (probs > 0.5).astype(int)\n",
    "y_true = labels_array.astype(int)\n",
    "y_pred = preds.astype(int)\n",
    "\n",
    "# Print classification report\n",
    "print(\"\\nClassification Report (Per-Class):\")\n",
    "print(classification_report(y_true, y_pred))"
   ]
  },
  {
   "cell_type": "code",
   "execution_count": 24,
   "metadata": {},
   "outputs": [
    {
     "data": {
      "text/plain": [
       "array([0, 0, 0, 0, 0, 0, 0, 0, 0, 0, 0, 0, 0, 0, 0, 0, 0, 0, 0, 0, 0, 0,\n",
       "       0, 0, 0, 0, 0, 0, 0, 0, 0, 0, 0, 0, 0, 0, 0, 0, 0, 0, 0, 0, 0, 0,\n",
       "       0, 0, 0, 0, 0, 0, 0, 0, 0, 0, 0, 0, 0, 0, 0, 0, 0, 0, 0, 0, 0, 0,\n",
       "       0, 0, 0, 0, 0, 0, 0, 0, 0, 0, 0, 0, 0, 0, 0, 0, 0, 0, 0, 0, 0, 0,\n",
       "       0, 0, 0, 0, 0, 0, 0, 0, 0, 0, 0, 0, 0, 0, 0, 0, 0, 0, 0, 0, 0, 0,\n",
       "       0, 0, 0, 0, 0, 0, 0, 0, 0, 0, 0, 0, 0, 0, 0, 0, 0, 0, 0, 0, 0, 0,\n",
       "       0, 0, 0, 0, 0, 0, 0, 0, 0, 0, 0, 0, 0, 0, 0, 0, 0, 0, 0, 0, 0, 0,\n",
       "       0, 0, 0, 0, 0, 0, 0, 0, 0, 0, 0, 0, 0, 0, 0, 0, 0, 0, 0, 0, 0, 0,\n",
       "       0, 0, 0, 0, 0, 0, 0, 0, 0, 0, 0, 0, 0, 0, 0, 0, 0, 0, 0, 0, 0, 0,\n",
       "       0, 0, 0, 0, 0, 0, 0, 0, 0, 0, 0, 1, 0, 0, 0, 0, 0, 0, 1, 1, 1, 1,\n",
       "       0, 0, 0, 0, 0, 0, 0, 0, 0, 0, 1, 1, 0, 0, 0, 0, 0, 0, 0, 0])"
      ]
     },
     "execution_count": 24,
     "metadata": {},
     "output_type": "execute_result"
    }
   ],
   "source": [
    "y"
   ]
  },
  {
   "cell_type": "code",
   "execution_count": 19,
   "metadata": {},
   "outputs": [
    {
     "data": {
      "text/plain": [
       "(13, 3, 30)"
      ]
     },
     "execution_count": 19,
     "metadata": {},
     "output_type": "execute_result"
    }
   ],
   "source": [
    "X.shape"
   ]
  },
  {
   "cell_type": "code",
   "execution_count": null,
   "metadata": {},
   "outputs": [],
   "source": []
  }
 ],
 "metadata": {
  "kernelspec": {
   "display_name": "base",
   "language": "python",
   "name": "python3"
  },
  "language_info": {
   "codemirror_mode": {
    "name": "ipython",
    "version": 3
   },
   "file_extension": ".py",
   "mimetype": "text/x-python",
   "name": "python",
   "nbconvert_exporter": "python",
   "pygments_lexer": "ipython3",
   "version": "3.12.7"
  }
 },
 "nbformat": 4,
 "nbformat_minor": 2
}
